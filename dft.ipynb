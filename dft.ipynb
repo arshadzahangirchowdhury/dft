{
 "cells": [
  {
   "cell_type": "code",
   "execution_count": 3,
   "id": "dfe177b1",
   "metadata": {},
   "outputs": [
    {
     "name": "stdout",
     "output_type": "stream",
     "text": [
      "V = 1000 Angstrom^3\n"
     ]
    }
   ],
   "source": [
    "from ase import Atoms, Atom\n",
    "from ase.io import write\n",
    "\n",
    "# define an Atoms object\n",
    "atoms = Atoms([Atom('C', [0., 0., 0.]),\n",
    "               Atom('O', [1.1, 0., 0.])],\n",
    "              cell=(10, 10, 10))\n",
    "\n",
    "print('V = {0:1.0f} Angstrom^3'.format(atoms.get_volume()))\n",
    "\n",
    "write('images/simple-cubic-cell.png', atoms, show_unit_cell=2)"
   ]
  },
  {
   "cell_type": "code",
   "execution_count": 4,
   "id": "1a67f738",
   "metadata": {},
   "outputs": [
    {
     "data": {
      "text/plain": [
       "Atoms(symbols='CO', pbc=False, cell=[10.0, 10.0, 10.0])"
      ]
     },
     "execution_count": 4,
     "metadata": {},
     "output_type": "execute_result"
    }
   ],
   "source": [
    "atoms"
   ]
  },
  {
   "cell_type": "code",
   "execution_count": 5,
   "id": "e2b7bad8",
   "metadata": {},
   "outputs": [
    {
     "name": "stdout",
     "output_type": "stream",
     "text": [
      "V = 716 Ang^3\n"
     ]
    }
   ],
   "source": [
    "from ase import Atoms, Atom\n",
    "from ase.io import write\n",
    "\n",
    "b = 7.1\n",
    "atoms = Atoms([Atom('C', [0., 0., 0.]),\n",
    "               Atom('O', [1.1, 0., 0.])],\n",
    "              cell=[[b, b, 0.],\n",
    "                    [b, 0., b],\n",
    "                    [0., b, b]])\n",
    "\n",
    "print('V = {0:1.0f} Ang^3'.format(atoms.get_volume()))\n",
    "\n",
    "atoms.center()  # translate atoms to center of unit cell\n",
    "write('images/fcc-cell.png', atoms, show_unit_cell=2)"
   ]
  },
  {
   "cell_type": "code",
   "execution_count": 6,
   "id": "5b1c15a6",
   "metadata": {},
   "outputs": [
    {
     "name": "stdout",
     "output_type": "stream",
     "text": [
      "|a1| = 10.04 Ang\n",
      "|a2| = 10.04 Ang\n",
      "|a3| = 10.04 Ang\n"
     ]
    }
   ],
   "source": [
    "from ase import Atoms, Atom\n",
    "import numpy as np\n",
    "\n",
    "b = 7.1\n",
    "atoms = Atoms([Atom('C', [0., 0., 0.]),\n",
    "               Atom('O', [1.1, 0., 0.])],\n",
    "              cell=[[b, b, 0.],\n",
    "                    [b, 0., b],\n",
    "                    [0., b, b]])\n",
    "\n",
    "# get unit cell vectors and their lengths\n",
    "(a1, a2, a3) = atoms.get_cell()\n",
    "print('|a1| = {0:1.2f} Ang'.format(np.sum(a1**2)**0.5))\n",
    "print('|a2| = {0:1.2f} Ang'.format(np.linalg.norm(a2)))\n",
    "print('|a3| = {0:1.2f} Ang'.format(np.sum(a3**2)**0.5))"
   ]
  },
  {
   "cell_type": "code",
   "execution_count": 24,
   "id": "cee8181c",
   "metadata": {
    "scrolled": true
   },
   "outputs": [
    {
     "name": "stdout",
     "output_type": "stream",
     "text": [
      "dict_keys(['Be', 'BeH', 'C', 'C2H2', 'C2H4', 'C2H6', 'CH', 'CH2_s1A1d', 'CH2_s3B1d', 'CH3', 'CH3Cl', 'CH3OH', 'CH3SH', 'CH4', 'CN', 'CO', 'CO2', 'CS', 'Cl', 'Cl2', 'ClF', 'ClO', 'F', 'F2', 'H', 'H2CO', 'H2O', 'H2O2', 'HCN', 'HCO', 'HCl', 'HF', 'HOCl', 'Li', 'Li2', 'LiF', 'LiH', 'N', 'N2', 'N2H4', 'NH', 'NH2', 'NH3', 'NO', 'Na', 'Na2', 'NaCl', 'O', 'O2', 'OH', 'P', 'P2', 'PH2', 'PH3', 'S', 'S2', 'SH2', 'SO', 'SO2', 'Si', 'Si2', 'Si2H6', 'SiH2_s1A1d', 'SiH2_s3B1d', 'SiH3', 'SiH4', 'SiO', '2-butyne', 'Al', 'AlCl3', 'AlF3', 'B', 'BCl3', 'BF3', 'C2Cl4', 'C2F4', 'C2H3', 'C2H5', 'C2H6CHOH', 'C2H6NH', 'C2H6SO', 'C3H4_C2v', 'C3H4_C3v', 'C3H4_D2d', 'C3H6_Cs', 'C3H6_D3h', 'C3H7', 'C3H7Cl', 'C3H8', 'C3H9C', 'C3H9N', 'C4H4NH', 'C4H4O', 'C4H4S', 'C5H5N', 'C5H8', 'C6H6', 'CCH', 'CCl4', 'CF3CN', 'CF4', 'CH2NHCH2', 'CH2OCH2', 'CH2SCH2', 'CH3CH2Cl', 'CH3CH2NH2', 'CH3CH2O', 'CH3CH2OCH3', 'CH3CH2OH', 'CH3CH2SH', 'CH3CHO', 'CH3CN', 'CH3CO', 'CH3COCH3', 'CH3COCl', 'CH3COF', 'CH3CONH2', 'CH3COOH', 'CH3NO2', 'CH3O', 'CH3OCH3', 'CH3ONO', 'CH3S', 'CH3SCH3', 'CH3SiH3', 'COF2', 'CS2', 'ClF3', 'ClNO', 'F2O', 'H2', 'H2CCHCN', 'H2CCHCl', 'H2CCHF', 'H2CCO', 'H2CCl2', 'H2CF2', 'H2COH', 'H3CNH2', 'HCCl3', 'HCF3', 'HCOOCH3', 'HCOOH', 'N2O', 'NCCN', 'NF3', 'NO2', 'O3', 'OCHCHO', 'OCS', 'PF3', 'SH', 'SiCl4', 'SiF4', 'bicyclobutane', 'butadiene', 'cyclobutane', 'cyclobutene', 'isobutane', 'isobutene', 'methylenecyclopropane', 'trans-butane'])\n",
      "dict_keys(['Be', 'BeH', 'C', 'C2H2', 'C2H4', 'C2H6', 'CH', 'CH2_s1A1d', 'CH2_s3B1d', 'CH3', 'CH3Cl', 'CH3OH', 'CH3SH', 'CH4', 'CN', 'CO', 'CO2', 'CS', 'Cl', 'Cl2', 'ClF', 'ClO', 'F', 'F2', 'H', 'H2CO', 'H2O', 'H2O2', 'HCN', 'HCO', 'HCl', 'HF', 'HOCl', 'Li', 'Li2', 'LiF', 'LiH', 'N', 'N2', 'N2H4', 'NH', 'NH2', 'NH3', 'NO', 'Na', 'Na2', 'NaCl', 'O', 'O2', 'OH', 'P', 'P2', 'PH2', 'PH3', 'S', 'S2', 'SH2', 'SO', 'SO2', 'Si', 'Si2', 'Si2H6', 'SiH2_s1A1d', 'SiH2_s3B1d', 'SiH3', 'SiH4', 'SiO', '2-butyne', 'Al', 'AlCl3', 'AlF3', 'B', 'BCl3', 'BF3', 'C2Cl4', 'C2F4', 'C2H3', 'C2H5', 'C2H6CHOH', 'C2H6NH', 'C2H6SO', 'C3H4_C2v', 'C3H4_C3v', 'C3H4_D2d', 'C3H6_Cs', 'C3H6_D3h', 'C3H7', 'C3H7Cl', 'C3H8', 'C3H9C', 'C3H9N', 'C4H4NH', 'C4H4O', 'C4H4S', 'C5H5N', 'C5H8', 'C6H6', 'CCH', 'CCl4', 'CF3CN', 'CF4', 'CH2NHCH2', 'CH2OCH2', 'CH2SCH2', 'CH3CH2Cl', 'CH3CH2NH2', 'CH3CH2O', 'CH3CH2OCH3', 'CH3CH2OH', 'CH3CH2SH', 'CH3CHO', 'CH3CN', 'CH3CO', 'CH3COCH3', 'CH3COCl', 'CH3COF', 'CH3CONH2', 'CH3COOH', 'CH3NO2', 'CH3O', 'CH3OCH3', 'CH3ONO', 'CH3S', 'CH3SCH3', 'CH3SiH3', 'COF2', 'CS2', 'ClF3', 'ClNO', 'F2O', 'H2', 'H2CCHCN', 'H2CCHCl', 'H2CCHF', 'H2CCO', 'H2CCl2', 'H2CF2', 'H2COH', 'H3CNH2', 'HCCl3', 'HCF3', 'HCOOCH3', 'HCOOH', 'N2O', 'NCCN', 'NF3', 'NO2', 'O3', 'OCHCHO', 'OCS', 'PF3', 'SH', 'SiCl4', 'SiF4', 'bicyclobutane', 'butadiene', 'cyclobutane', 'cyclobutene', 'isobutane', 'isobutene', 'methylenecyclopropane', 'trans-butane'])\n",
      "dict_keys(['Be', 'BeH', 'C', 'C2H2', 'C2H4', 'C2H6', 'CH', 'CH2_s1A1d', 'CH2_s3B1d', 'CH3', 'CH3Cl', 'CH3OH', 'CH3SH', 'CH4', 'CN', 'CO', 'CO2', 'CS', 'Cl', 'Cl2', 'ClF', 'ClO', 'F', 'F2', 'H', 'H2CO', 'H2O', 'H2O2', 'HCN', 'HCO', 'HCl', 'HF', 'HOCl', 'Li', 'Li2', 'LiF', 'LiH', 'N', 'N2', 'N2H4', 'NH', 'NH2', 'NH3', 'NO', 'Na', 'Na2', 'NaCl', 'O', 'O2', 'OH', 'P', 'P2', 'PH2', 'PH3', 'S', 'S2', 'SH2', 'SO', 'SO2', 'Si', 'Si2', 'Si2H6', 'SiH2_s1A1d', 'SiH2_s3B1d', 'SiH3', 'SiH4', 'SiO', '2-butyne', 'Al', 'AlCl3', 'AlF3', 'B', 'BCl3', 'BF3', 'C2Cl4', 'C2F4', 'C2H3', 'C2H5', 'C2H6CHOH', 'C2H6NH', 'C2H6SO', 'C3H4_C2v', 'C3H4_C3v', 'C3H4_D2d', 'C3H6_Cs', 'C3H6_D3h', 'C3H7', 'C3H7Cl', 'C3H8', 'C3H9C', 'C3H9N', 'C4H4NH', 'C4H4O', 'C4H4S', 'C5H5N', 'C5H8', 'C6H6', 'CCH', 'CCl4', 'CF3CN', 'CF4', 'CH2NHCH2', 'CH2OCH2', 'CH2SCH2', 'CH3CH2Cl', 'CH3CH2NH2', 'CH3CH2O', 'CH3CH2OCH3', 'CH3CH2OH', 'CH3CH2SH', 'CH3CHO', 'CH3CN', 'CH3CO', 'CH3COCH3', 'CH3COCl', 'CH3COF', 'CH3CONH2', 'CH3COOH', 'CH3NO2', 'CH3O', 'CH3OCH3', 'CH3ONO', 'CH3S', 'CH3SCH3', 'CH3SiH3', 'COF2', 'CS2', 'ClF3', 'ClNO', 'F2O', 'H2', 'H2CCHCN', 'H2CCHCl', 'H2CCHF', 'H2CCO', 'H2CCl2', 'H2CF2', 'H2COH', 'H3CNH2', 'HCCl3', 'HCF3', 'HCOOCH3', 'HCOOH', 'N2O', 'NCCN', 'NF3', 'NO2', 'O3', 'OCHCHO', 'OCS', 'PF3', 'SH', 'SiCl4', 'SiF4', 'bicyclobutane', 'butadiene', 'cyclobutane', 'cyclobutene', 'isobutane', 'isobutene', 'methylenecyclopropane', 'trans-butane'])\n",
      "dict_keys(['Be', 'BeH', 'C', 'C2H2', 'C2H4', 'C2H6', 'CH', 'CH2_s1A1d', 'CH2_s3B1d', 'CH3', 'CH3Cl', 'CH3OH', 'CH3SH', 'CH4', 'CN', 'CO', 'CO2', 'CS', 'Cl', 'Cl2', 'ClF', 'ClO', 'F', 'F2', 'H', 'H2CO', 'H2O', 'H2O2', 'HCN', 'HCO', 'HCl', 'HF', 'HOCl', 'Li', 'Li2', 'LiF', 'LiH', 'N', 'N2', 'N2H4', 'NH', 'NH2', 'NH3', 'NO', 'Na', 'Na2', 'NaCl', 'O', 'O2', 'OH', 'P', 'P2', 'PH2', 'PH3', 'S', 'S2', 'SH2', 'SO', 'SO2', 'Si', 'Si2', 'Si2H6', 'SiH2_s1A1d', 'SiH2_s3B1d', 'SiH3', 'SiH4', 'SiO', '2-butyne', 'Al', 'AlCl3', 'AlF3', 'B', 'BCl3', 'BF3', 'C2Cl4', 'C2F4', 'C2H3', 'C2H5', 'C2H6CHOH', 'C2H6NH', 'C2H6SO', 'C3H4_C2v', 'C3H4_C3v', 'C3H4_D2d', 'C3H6_Cs', 'C3H6_D3h', 'C3H7', 'C3H7Cl', 'C3H8', 'C3H9C', 'C3H9N', 'C4H4NH', 'C4H4O', 'C4H4S', 'C5H5N', 'C5H8', 'C6H6', 'CCH', 'CCl4', 'CF3CN', 'CF4', 'CH2NHCH2', 'CH2OCH2', 'CH2SCH2', 'CH3CH2Cl', 'CH3CH2NH2', 'CH3CH2O', 'CH3CH2OCH3', 'CH3CH2OH', 'CH3CH2SH', 'CH3CHO', 'CH3CN', 'CH3CO', 'CH3COCH3', 'CH3COCl', 'CH3COF', 'CH3CONH2', 'CH3COOH', 'CH3NO2', 'CH3O', 'CH3OCH3', 'CH3ONO', 'CH3S', 'CH3SCH3', 'CH3SiH3', 'COF2', 'CS2', 'ClF3', 'ClNO', 'F2O', 'H2', 'H2CCHCN', 'H2CCHCl', 'H2CCHF', 'H2CCO', 'H2CCl2', 'H2CF2', 'H2COH', 'H3CNH2', 'HCCl3', 'HCF3', 'HCOOCH3', 'HCOOH', 'N2O', 'NCCN', 'NF3', 'NO2', 'O3', 'OCHCHO', 'OCS', 'PF3', 'SH', 'SiCl4', 'SiF4', 'bicyclobutane', 'butadiene', 'cyclobutane', 'cyclobutene', 'isobutane', 'isobutene', 'methylenecyclopropane', 'trans-butane'])\n",
      "dict_keys(['Be', 'BeH', 'C', 'C2H2', 'C2H4', 'C2H6', 'CH', 'CH2_s1A1d', 'CH2_s3B1d', 'CH3', 'CH3Cl', 'CH3OH', 'CH3SH', 'CH4', 'CN', 'CO', 'CO2', 'CS', 'Cl', 'Cl2', 'ClF', 'ClO', 'F', 'F2', 'H', 'H2CO', 'H2O', 'H2O2', 'HCN', 'HCO', 'HCl', 'HF', 'HOCl', 'Li', 'Li2', 'LiF', 'LiH', 'N', 'N2', 'N2H4', 'NH', 'NH2', 'NH3', 'NO', 'Na', 'Na2', 'NaCl', 'O', 'O2', 'OH', 'P', 'P2', 'PH2', 'PH3', 'S', 'S2', 'SH2', 'SO', 'SO2', 'Si', 'Si2', 'Si2H6', 'SiH2_s1A1d', 'SiH2_s3B1d', 'SiH3', 'SiH4', 'SiO', '2-butyne', 'Al', 'AlCl3', 'AlF3', 'B', 'BCl3', 'BF3', 'C2Cl4', 'C2F4', 'C2H3', 'C2H5', 'C2H6CHOH', 'C2H6NH', 'C2H6SO', 'C3H4_C2v', 'C3H4_C3v', 'C3H4_D2d', 'C3H6_Cs', 'C3H6_D3h', 'C3H7', 'C3H7Cl', 'C3H8', 'C3H9C', 'C3H9N', 'C4H4NH', 'C4H4O', 'C4H4S', 'C5H5N', 'C5H8', 'C6H6', 'CCH', 'CCl4', 'CF3CN', 'CF4', 'CH2NHCH2', 'CH2OCH2', 'CH2SCH2', 'CH3CH2Cl', 'CH3CH2NH2', 'CH3CH2O', 'CH3CH2OCH3', 'CH3CH2OH', 'CH3CH2SH', 'CH3CHO', 'CH3CN', 'CH3CO', 'CH3COCH3', 'CH3COCl', 'CH3COF', 'CH3CONH2', 'CH3COOH', 'CH3NO2', 'CH3O', 'CH3OCH3', 'CH3ONO', 'CH3S', 'CH3SCH3', 'CH3SiH3', 'COF2', 'CS2', 'ClF3', 'ClNO', 'F2O', 'H2', 'H2CCHCN', 'H2CCHCl', 'H2CCHF', 'H2CCO', 'H2CCl2', 'H2CF2', 'H2COH', 'H3CNH2', 'HCCl3', 'HCF3', 'HCOOCH3', 'HCOOH', 'N2O', 'NCCN', 'NF3', 'NO2', 'O3', 'OCHCHO', 'OCS', 'PF3', 'SH', 'SiCl4', 'SiF4', 'bicyclobutane', 'butadiene', 'cyclobutane', 'cyclobutene', 'isobutane', 'isobutene', 'methylenecyclopropane', 'trans-butane'])\n",
      "dict_keys(['Be', 'BeH', 'C', 'C2H2', 'C2H4', 'C2H6', 'CH', 'CH2_s1A1d', 'CH2_s3B1d', 'CH3', 'CH3Cl', 'CH3OH', 'CH3SH', 'CH4', 'CN', 'CO', 'CO2', 'CS', 'Cl', 'Cl2', 'ClF', 'ClO', 'F', 'F2', 'H', 'H2CO', 'H2O', 'H2O2', 'HCN', 'HCO', 'HCl', 'HF', 'HOCl', 'Li', 'Li2', 'LiF', 'LiH', 'N', 'N2', 'N2H4', 'NH', 'NH2', 'NH3', 'NO', 'Na', 'Na2', 'NaCl', 'O', 'O2', 'OH', 'P', 'P2', 'PH2', 'PH3', 'S', 'S2', 'SH2', 'SO', 'SO2', 'Si', 'Si2', 'Si2H6', 'SiH2_s1A1d', 'SiH2_s3B1d', 'SiH3', 'SiH4', 'SiO', '2-butyne', 'Al', 'AlCl3', 'AlF3', 'B', 'BCl3', 'BF3', 'C2Cl4', 'C2F4', 'C2H3', 'C2H5', 'C2H6CHOH', 'C2H6NH', 'C2H6SO', 'C3H4_C2v', 'C3H4_C3v', 'C3H4_D2d', 'C3H6_Cs', 'C3H6_D3h', 'C3H7', 'C3H7Cl', 'C3H8', 'C3H9C', 'C3H9N', 'C4H4NH', 'C4H4O', 'C4H4S', 'C5H5N', 'C5H8', 'C6H6', 'CCH', 'CCl4', 'CF3CN', 'CF4', 'CH2NHCH2', 'CH2OCH2', 'CH2SCH2', 'CH3CH2Cl', 'CH3CH2NH2', 'CH3CH2O', 'CH3CH2OCH3', 'CH3CH2OH', 'CH3CH2SH', 'CH3CHO', 'CH3CN', 'CH3CO', 'CH3COCH3', 'CH3COCl', 'CH3COF', 'CH3CONH2', 'CH3COOH', 'CH3NO2', 'CH3O', 'CH3OCH3', 'CH3ONO', 'CH3S', 'CH3SCH3', 'CH3SiH3', 'COF2', 'CS2', 'ClF3', 'ClNO', 'F2O', 'H2', 'H2CCHCN', 'H2CCHCl', 'H2CCHF', 'H2CCO', 'H2CCl2', 'H2CF2', 'H2COH', 'H3CNH2', 'HCCl3', 'HCF3', 'HCOOCH3', 'HCOOH', 'N2O', 'NCCN', 'NF3', 'NO2', 'O3', 'OCHCHO', 'OCS', 'PF3', 'SH', 'SiCl4', 'SiF4', 'bicyclobutane', 'butadiene', 'cyclobutane', 'cyclobutene', 'isobutane', 'isobutene', 'methylenecyclopropane', 'trans-butane'])\n",
      "dict_keys(['Be', 'BeH', 'C', 'C2H2', 'C2H4', 'C2H6', 'CH', 'CH2_s1A1d', 'CH2_s3B1d', 'CH3', 'CH3Cl', 'CH3OH', 'CH3SH', 'CH4', 'CN', 'CO', 'CO2', 'CS', 'Cl', 'Cl2', 'ClF', 'ClO', 'F', 'F2', 'H', 'H2CO', 'H2O', 'H2O2', 'HCN', 'HCO', 'HCl', 'HF', 'HOCl', 'Li', 'Li2', 'LiF', 'LiH', 'N', 'N2', 'N2H4', 'NH', 'NH2', 'NH3', 'NO', 'Na', 'Na2', 'NaCl', 'O', 'O2', 'OH', 'P', 'P2', 'PH2', 'PH3', 'S', 'S2', 'SH2', 'SO', 'SO2', 'Si', 'Si2', 'Si2H6', 'SiH2_s1A1d', 'SiH2_s3B1d', 'SiH3', 'SiH4', 'SiO', '2-butyne', 'Al', 'AlCl3', 'AlF3', 'B', 'BCl3', 'BF3', 'C2Cl4', 'C2F4', 'C2H3', 'C2H5', 'C2H6CHOH', 'C2H6NH', 'C2H6SO', 'C3H4_C2v', 'C3H4_C3v', 'C3H4_D2d', 'C3H6_Cs', 'C3H6_D3h', 'C3H7', 'C3H7Cl', 'C3H8', 'C3H9C', 'C3H9N', 'C4H4NH', 'C4H4O', 'C4H4S', 'C5H5N', 'C5H8', 'C6H6', 'CCH', 'CCl4', 'CF3CN', 'CF4', 'CH2NHCH2', 'CH2OCH2', 'CH2SCH2', 'CH3CH2Cl', 'CH3CH2NH2', 'CH3CH2O', 'CH3CH2OCH3', 'CH3CH2OH', 'CH3CH2SH', 'CH3CHO', 'CH3CN', 'CH3CO', 'CH3COCH3', 'CH3COCl', 'CH3COF', 'CH3CONH2', 'CH3COOH', 'CH3NO2', 'CH3O', 'CH3OCH3', 'CH3ONO', 'CH3S', 'CH3SCH3', 'CH3SiH3', 'COF2', 'CS2', 'ClF3', 'ClNO', 'F2O', 'H2', 'H2CCHCN', 'H2CCHCl', 'H2CCHF', 'H2CCO', 'H2CCl2', 'H2CF2', 'H2COH', 'H3CNH2', 'HCCl3', 'HCF3', 'HCOOCH3', 'HCOOH', 'N2O', 'NCCN', 'NF3', 'NO2', 'O3', 'OCHCHO', 'OCS', 'PF3', 'SH', 'SiCl4', 'SiF4', 'bicyclobutane', 'butadiene', 'cyclobutane', 'cyclobutene', 'isobutane', 'isobutene', 'methylenecyclopropane', 'trans-butane'])\n",
      "dict_keys(['Be', 'BeH', 'C', 'C2H2', 'C2H4', 'C2H6', 'CH', 'CH2_s1A1d', 'CH2_s3B1d', 'CH3', 'CH3Cl', 'CH3OH', 'CH3SH', 'CH4', 'CN', 'CO', 'CO2', 'CS', 'Cl', 'Cl2', 'ClF', 'ClO', 'F', 'F2', 'H', 'H2CO', 'H2O', 'H2O2', 'HCN', 'HCO', 'HCl', 'HF', 'HOCl', 'Li', 'Li2', 'LiF', 'LiH', 'N', 'N2', 'N2H4', 'NH', 'NH2', 'NH3', 'NO', 'Na', 'Na2', 'NaCl', 'O', 'O2', 'OH', 'P', 'P2', 'PH2', 'PH3', 'S', 'S2', 'SH2', 'SO', 'SO2', 'Si', 'Si2', 'Si2H6', 'SiH2_s1A1d', 'SiH2_s3B1d', 'SiH3', 'SiH4', 'SiO', '2-butyne', 'Al', 'AlCl3', 'AlF3', 'B', 'BCl3', 'BF3', 'C2Cl4', 'C2F4', 'C2H3', 'C2H5', 'C2H6CHOH', 'C2H6NH', 'C2H6SO', 'C3H4_C2v', 'C3H4_C3v', 'C3H4_D2d', 'C3H6_Cs', 'C3H6_D3h', 'C3H7', 'C3H7Cl', 'C3H8', 'C3H9C', 'C3H9N', 'C4H4NH', 'C4H4O', 'C4H4S', 'C5H5N', 'C5H8', 'C6H6', 'CCH', 'CCl4', 'CF3CN', 'CF4', 'CH2NHCH2', 'CH2OCH2', 'CH2SCH2', 'CH3CH2Cl', 'CH3CH2NH2', 'CH3CH2O', 'CH3CH2OCH3', 'CH3CH2OH', 'CH3CH2SH', 'CH3CHO', 'CH3CN', 'CH3CO', 'CH3COCH3', 'CH3COCl', 'CH3COF', 'CH3CONH2', 'CH3COOH', 'CH3NO2', 'CH3O', 'CH3OCH3', 'CH3ONO', 'CH3S', 'CH3SCH3', 'CH3SiH3', 'COF2', 'CS2', 'ClF3', 'ClNO', 'F2O', 'H2', 'H2CCHCN', 'H2CCHCl', 'H2CCHF', 'H2CCO', 'H2CCl2', 'H2CF2', 'H2COH', 'H3CNH2', 'HCCl3', 'HCF3', 'HCOOCH3', 'HCOOH', 'N2O', 'NCCN', 'NF3', 'NO2', 'O3', 'OCHCHO', 'OCS', 'PF3', 'SH', 'SiCl4', 'SiF4', 'bicyclobutane', 'butadiene', 'cyclobutane', 'cyclobutene', 'isobutane', 'isobutene', 'methylenecyclopropane', 'trans-butane'])\n",
      "dict_keys(['Be', 'BeH', 'C', 'C2H2', 'C2H4', 'C2H6', 'CH', 'CH2_s1A1d', 'CH2_s3B1d', 'CH3', 'CH3Cl', 'CH3OH', 'CH3SH', 'CH4', 'CN', 'CO', 'CO2', 'CS', 'Cl', 'Cl2', 'ClF', 'ClO', 'F', 'F2', 'H', 'H2CO', 'H2O', 'H2O2', 'HCN', 'HCO', 'HCl', 'HF', 'HOCl', 'Li', 'Li2', 'LiF', 'LiH', 'N', 'N2', 'N2H4', 'NH', 'NH2', 'NH3', 'NO', 'Na', 'Na2', 'NaCl', 'O', 'O2', 'OH', 'P', 'P2', 'PH2', 'PH3', 'S', 'S2', 'SH2', 'SO', 'SO2', 'Si', 'Si2', 'Si2H6', 'SiH2_s1A1d', 'SiH2_s3B1d', 'SiH3', 'SiH4', 'SiO', '2-butyne', 'Al', 'AlCl3', 'AlF3', 'B', 'BCl3', 'BF3', 'C2Cl4', 'C2F4', 'C2H3', 'C2H5', 'C2H6CHOH', 'C2H6NH', 'C2H6SO', 'C3H4_C2v', 'C3H4_C3v', 'C3H4_D2d', 'C3H6_Cs', 'C3H6_D3h', 'C3H7', 'C3H7Cl', 'C3H8', 'C3H9C', 'C3H9N', 'C4H4NH', 'C4H4O', 'C4H4S', 'C5H5N', 'C5H8', 'C6H6', 'CCH', 'CCl4', 'CF3CN', 'CF4', 'CH2NHCH2', 'CH2OCH2', 'CH2SCH2', 'CH3CH2Cl', 'CH3CH2NH2', 'CH3CH2O', 'CH3CH2OCH3', 'CH3CH2OH', 'CH3CH2SH', 'CH3CHO', 'CH3CN', 'CH3CO', 'CH3COCH3', 'CH3COCl', 'CH3COF', 'CH3CONH2', 'CH3COOH', 'CH3NO2', 'CH3O', 'CH3OCH3', 'CH3ONO', 'CH3S', 'CH3SCH3', 'CH3SiH3', 'COF2', 'CS2', 'ClF3', 'ClNO', 'F2O', 'H2', 'H2CCHCN', 'H2CCHCl', 'H2CCHF', 'H2CCO', 'H2CCl2', 'H2CF2', 'H2COH', 'H3CNH2', 'HCCl3', 'HCF3', 'HCOOCH3', 'HCOOH', 'N2O', 'NCCN', 'NF3', 'NO2', 'O3', 'OCHCHO', 'OCS', 'PF3', 'SH', 'SiCl4', 'SiF4', 'bicyclobutane', 'butadiene', 'cyclobutane', 'cyclobutene', 'isobutane', 'isobutene', 'methylenecyclopropane', 'trans-butane'])\n",
      "dict_keys(['Be', 'BeH', 'C', 'C2H2', 'C2H4', 'C2H6', 'CH', 'CH2_s1A1d', 'CH2_s3B1d', 'CH3', 'CH3Cl', 'CH3OH', 'CH3SH', 'CH4', 'CN', 'CO', 'CO2', 'CS', 'Cl', 'Cl2', 'ClF', 'ClO', 'F', 'F2', 'H', 'H2CO', 'H2O', 'H2O2', 'HCN', 'HCO', 'HCl', 'HF', 'HOCl', 'Li', 'Li2', 'LiF', 'LiH', 'N', 'N2', 'N2H4', 'NH', 'NH2', 'NH3', 'NO', 'Na', 'Na2', 'NaCl', 'O', 'O2', 'OH', 'P', 'P2', 'PH2', 'PH3', 'S', 'S2', 'SH2', 'SO', 'SO2', 'Si', 'Si2', 'Si2H6', 'SiH2_s1A1d', 'SiH2_s3B1d', 'SiH3', 'SiH4', 'SiO', '2-butyne', 'Al', 'AlCl3', 'AlF3', 'B', 'BCl3', 'BF3', 'C2Cl4', 'C2F4', 'C2H3', 'C2H5', 'C2H6CHOH', 'C2H6NH', 'C2H6SO', 'C3H4_C2v', 'C3H4_C3v', 'C3H4_D2d', 'C3H6_Cs', 'C3H6_D3h', 'C3H7', 'C3H7Cl', 'C3H8', 'C3H9C', 'C3H9N', 'C4H4NH', 'C4H4O', 'C4H4S', 'C5H5N', 'C5H8', 'C6H6', 'CCH', 'CCl4', 'CF3CN', 'CF4', 'CH2NHCH2', 'CH2OCH2', 'CH2SCH2', 'CH3CH2Cl', 'CH3CH2NH2', 'CH3CH2O', 'CH3CH2OCH3', 'CH3CH2OH', 'CH3CH2SH', 'CH3CHO', 'CH3CN', 'CH3CO', 'CH3COCH3', 'CH3COCl', 'CH3COF', 'CH3CONH2', 'CH3COOH', 'CH3NO2', 'CH3O', 'CH3OCH3', 'CH3ONO', 'CH3S', 'CH3SCH3', 'CH3SiH3', 'COF2', 'CS2', 'ClF3', 'ClNO', 'F2O', 'H2', 'H2CCHCN', 'H2CCHCl', 'H2CCHF', 'H2CCO', 'H2CCl2', 'H2CF2', 'H2COH', 'H3CNH2', 'HCCl3', 'HCF3', 'HCOOCH3', 'HCOOH', 'N2O', 'NCCN', 'NF3', 'NO2', 'O3', 'OCHCHO', 'OCS', 'PF3', 'SH', 'SiCl4', 'SiF4', 'bicyclobutane', 'butadiene', 'cyclobutane', 'cyclobutene', 'isobutane', 'isobutene', 'methylenecyclopropane', 'trans-butane'])\n",
      "dict_keys(['Be', 'BeH', 'C', 'C2H2', 'C2H4', 'C2H6', 'CH', 'CH2_s1A1d', 'CH2_s3B1d', 'CH3', 'CH3Cl', 'CH3OH', 'CH3SH', 'CH4', 'CN', 'CO', 'CO2', 'CS', 'Cl', 'Cl2', 'ClF', 'ClO', 'F', 'F2', 'H', 'H2CO', 'H2O', 'H2O2', 'HCN', 'HCO', 'HCl', 'HF', 'HOCl', 'Li', 'Li2', 'LiF', 'LiH', 'N', 'N2', 'N2H4', 'NH', 'NH2', 'NH3', 'NO', 'Na', 'Na2', 'NaCl', 'O', 'O2', 'OH', 'P', 'P2', 'PH2', 'PH3', 'S', 'S2', 'SH2', 'SO', 'SO2', 'Si', 'Si2', 'Si2H6', 'SiH2_s1A1d', 'SiH2_s3B1d', 'SiH3', 'SiH4', 'SiO', '2-butyne', 'Al', 'AlCl3', 'AlF3', 'B', 'BCl3', 'BF3', 'C2Cl4', 'C2F4', 'C2H3', 'C2H5', 'C2H6CHOH', 'C2H6NH', 'C2H6SO', 'C3H4_C2v', 'C3H4_C3v', 'C3H4_D2d', 'C3H6_Cs', 'C3H6_D3h', 'C3H7', 'C3H7Cl', 'C3H8', 'C3H9C', 'C3H9N', 'C4H4NH', 'C4H4O', 'C4H4S', 'C5H5N', 'C5H8', 'C6H6', 'CCH', 'CCl4', 'CF3CN', 'CF4', 'CH2NHCH2', 'CH2OCH2', 'CH2SCH2', 'CH3CH2Cl', 'CH3CH2NH2', 'CH3CH2O', 'CH3CH2OCH3', 'CH3CH2OH', 'CH3CH2SH', 'CH3CHO', 'CH3CN', 'CH3CO', 'CH3COCH3', 'CH3COCl', 'CH3COF', 'CH3CONH2', 'CH3COOH', 'CH3NO2', 'CH3O', 'CH3OCH3', 'CH3ONO', 'CH3S', 'CH3SCH3', 'CH3SiH3', 'COF2', 'CS2', 'ClF3', 'ClNO', 'F2O', 'H2', 'H2CCHCN', 'H2CCHCl', 'H2CCHF', 'H2CCO', 'H2CCl2', 'H2CF2', 'H2COH', 'H3CNH2', 'HCCl3', 'HCF3', 'HCOOCH3', 'HCOOH', 'N2O', 'NCCN', 'NF3', 'NO2', 'O3', 'OCHCHO', 'OCS', 'PF3', 'SH', 'SiCl4', 'SiF4', 'bicyclobutane', 'butadiene', 'cyclobutane', 'cyclobutene', 'isobutane', 'isobutene', 'methylenecyclopropane', 'trans-butane'])\n",
      "dict_keys(['Be', 'BeH', 'C', 'C2H2', 'C2H4', 'C2H6', 'CH', 'CH2_s1A1d', 'CH2_s3B1d', 'CH3', 'CH3Cl', 'CH3OH', 'CH3SH', 'CH4', 'CN', 'CO', 'CO2', 'CS', 'Cl', 'Cl2', 'ClF', 'ClO', 'F', 'F2', 'H', 'H2CO', 'H2O', 'H2O2', 'HCN', 'HCO', 'HCl', 'HF', 'HOCl', 'Li', 'Li2', 'LiF', 'LiH', 'N', 'N2', 'N2H4', 'NH', 'NH2', 'NH3', 'NO', 'Na', 'Na2', 'NaCl', 'O', 'O2', 'OH', 'P', 'P2', 'PH2', 'PH3', 'S', 'S2', 'SH2', 'SO', 'SO2', 'Si', 'Si2', 'Si2H6', 'SiH2_s1A1d', 'SiH2_s3B1d', 'SiH3', 'SiH4', 'SiO', '2-butyne', 'Al', 'AlCl3', 'AlF3', 'B', 'BCl3', 'BF3', 'C2Cl4', 'C2F4', 'C2H3', 'C2H5', 'C2H6CHOH', 'C2H6NH', 'C2H6SO', 'C3H4_C2v', 'C3H4_C3v', 'C3H4_D2d', 'C3H6_Cs', 'C3H6_D3h', 'C3H7', 'C3H7Cl', 'C3H8', 'C3H9C', 'C3H9N', 'C4H4NH', 'C4H4O', 'C4H4S', 'C5H5N', 'C5H8', 'C6H6', 'CCH', 'CCl4', 'CF3CN', 'CF4', 'CH2NHCH2', 'CH2OCH2', 'CH2SCH2', 'CH3CH2Cl', 'CH3CH2NH2', 'CH3CH2O', 'CH3CH2OCH3', 'CH3CH2OH', 'CH3CH2SH', 'CH3CHO', 'CH3CN', 'CH3CO', 'CH3COCH3', 'CH3COCl', 'CH3COF', 'CH3CONH2', 'CH3COOH', 'CH3NO2', 'CH3O', 'CH3OCH3', 'CH3ONO', 'CH3S', 'CH3SCH3', 'CH3SiH3', 'COF2', 'CS2', 'ClF3', 'ClNO', 'F2O', 'H2', 'H2CCHCN', 'H2CCHCl', 'H2CCHF', 'H2CCO', 'H2CCl2', 'H2CF2', 'H2COH', 'H3CNH2', 'HCCl3', 'HCF3', 'HCOOCH3', 'HCOOH', 'N2O', 'NCCN', 'NF3', 'NO2', 'O3', 'OCHCHO', 'OCS', 'PF3', 'SH', 'SiCl4', 'SiF4', 'bicyclobutane', 'butadiene', 'cyclobutane', 'cyclobutene', 'isobutane', 'isobutene', 'methylenecyclopropane', 'trans-butane'])\n",
      "dict_keys(['Be', 'BeH', 'C', 'C2H2', 'C2H4', 'C2H6', 'CH', 'CH2_s1A1d', 'CH2_s3B1d', 'CH3', 'CH3Cl', 'CH3OH', 'CH3SH', 'CH4', 'CN', 'CO', 'CO2', 'CS', 'Cl', 'Cl2', 'ClF', 'ClO', 'F', 'F2', 'H', 'H2CO', 'H2O', 'H2O2', 'HCN', 'HCO', 'HCl', 'HF', 'HOCl', 'Li', 'Li2', 'LiF', 'LiH', 'N', 'N2', 'N2H4', 'NH', 'NH2', 'NH3', 'NO', 'Na', 'Na2', 'NaCl', 'O', 'O2', 'OH', 'P', 'P2', 'PH2', 'PH3', 'S', 'S2', 'SH2', 'SO', 'SO2', 'Si', 'Si2', 'Si2H6', 'SiH2_s1A1d', 'SiH2_s3B1d', 'SiH3', 'SiH4', 'SiO', '2-butyne', 'Al', 'AlCl3', 'AlF3', 'B', 'BCl3', 'BF3', 'C2Cl4', 'C2F4', 'C2H3', 'C2H5', 'C2H6CHOH', 'C2H6NH', 'C2H6SO', 'C3H4_C2v', 'C3H4_C3v', 'C3H4_D2d', 'C3H6_Cs', 'C3H6_D3h', 'C3H7', 'C3H7Cl', 'C3H8', 'C3H9C', 'C3H9N', 'C4H4NH', 'C4H4O', 'C4H4S', 'C5H5N', 'C5H8', 'C6H6', 'CCH', 'CCl4', 'CF3CN', 'CF4', 'CH2NHCH2', 'CH2OCH2', 'CH2SCH2', 'CH3CH2Cl', 'CH3CH2NH2', 'CH3CH2O', 'CH3CH2OCH3', 'CH3CH2OH', 'CH3CH2SH', 'CH3CHO', 'CH3CN', 'CH3CO', 'CH3COCH3', 'CH3COCl', 'CH3COF', 'CH3CONH2', 'CH3COOH', 'CH3NO2', 'CH3O', 'CH3OCH3', 'CH3ONO', 'CH3S', 'CH3SCH3', 'CH3SiH3', 'COF2', 'CS2', 'ClF3', 'ClNO', 'F2O', 'H2', 'H2CCHCN', 'H2CCHCl', 'H2CCHF', 'H2CCO', 'H2CCl2', 'H2CF2', 'H2COH', 'H3CNH2', 'HCCl3', 'HCF3', 'HCOOCH3', 'HCOOH', 'N2O', 'NCCN', 'NF3', 'NO2', 'O3', 'OCHCHO', 'OCS', 'PF3', 'SH', 'SiCl4', 'SiF4', 'bicyclobutane', 'butadiene', 'cyclobutane', 'cyclobutene', 'isobutane', 'isobutene', 'methylenecyclopropane', 'trans-butane'])\n",
      "dict_keys(['Be', 'BeH', 'C', 'C2H2', 'C2H4', 'C2H6', 'CH', 'CH2_s1A1d', 'CH2_s3B1d', 'CH3', 'CH3Cl', 'CH3OH', 'CH3SH', 'CH4', 'CN', 'CO', 'CO2', 'CS', 'Cl', 'Cl2', 'ClF', 'ClO', 'F', 'F2', 'H', 'H2CO', 'H2O', 'H2O2', 'HCN', 'HCO', 'HCl', 'HF', 'HOCl', 'Li', 'Li2', 'LiF', 'LiH', 'N', 'N2', 'N2H4', 'NH', 'NH2', 'NH3', 'NO', 'Na', 'Na2', 'NaCl', 'O', 'O2', 'OH', 'P', 'P2', 'PH2', 'PH3', 'S', 'S2', 'SH2', 'SO', 'SO2', 'Si', 'Si2', 'Si2H6', 'SiH2_s1A1d', 'SiH2_s3B1d', 'SiH3', 'SiH4', 'SiO', '2-butyne', 'Al', 'AlCl3', 'AlF3', 'B', 'BCl3', 'BF3', 'C2Cl4', 'C2F4', 'C2H3', 'C2H5', 'C2H6CHOH', 'C2H6NH', 'C2H6SO', 'C3H4_C2v', 'C3H4_C3v', 'C3H4_D2d', 'C3H6_Cs', 'C3H6_D3h', 'C3H7', 'C3H7Cl', 'C3H8', 'C3H9C', 'C3H9N', 'C4H4NH', 'C4H4O', 'C4H4S', 'C5H5N', 'C5H8', 'C6H6', 'CCH', 'CCl4', 'CF3CN', 'CF4', 'CH2NHCH2', 'CH2OCH2', 'CH2SCH2', 'CH3CH2Cl', 'CH3CH2NH2', 'CH3CH2O', 'CH3CH2OCH3', 'CH3CH2OH', 'CH3CH2SH', 'CH3CHO', 'CH3CN', 'CH3CO', 'CH3COCH3', 'CH3COCl', 'CH3COF', 'CH3CONH2', 'CH3COOH', 'CH3NO2', 'CH3O', 'CH3OCH3', 'CH3ONO', 'CH3S', 'CH3SCH3', 'CH3SiH3', 'COF2', 'CS2', 'ClF3', 'ClNO', 'F2O', 'H2', 'H2CCHCN', 'H2CCHCl', 'H2CCHF', 'H2CCO', 'H2CCl2', 'H2CF2', 'H2COH', 'H3CNH2', 'HCCl3', 'HCF3', 'HCOOCH3', 'HCOOH', 'N2O', 'NCCN', 'NF3', 'NO2', 'O3', 'OCHCHO', 'OCS', 'PF3', 'SH', 'SiCl4', 'SiF4', 'bicyclobutane', 'butadiene', 'cyclobutane', 'cyclobutene', 'isobutane', 'isobutene', 'methylenecyclopropane', 'trans-butane'])\n",
      "dict_keys(['Be', 'BeH', 'C', 'C2H2', 'C2H4', 'C2H6', 'CH', 'CH2_s1A1d', 'CH2_s3B1d', 'CH3', 'CH3Cl', 'CH3OH', 'CH3SH', 'CH4', 'CN', 'CO', 'CO2', 'CS', 'Cl', 'Cl2', 'ClF', 'ClO', 'F', 'F2', 'H', 'H2CO', 'H2O', 'H2O2', 'HCN', 'HCO', 'HCl', 'HF', 'HOCl', 'Li', 'Li2', 'LiF', 'LiH', 'N', 'N2', 'N2H4', 'NH', 'NH2', 'NH3', 'NO', 'Na', 'Na2', 'NaCl', 'O', 'O2', 'OH', 'P', 'P2', 'PH2', 'PH3', 'S', 'S2', 'SH2', 'SO', 'SO2', 'Si', 'Si2', 'Si2H6', 'SiH2_s1A1d', 'SiH2_s3B1d', 'SiH3', 'SiH4', 'SiO', '2-butyne', 'Al', 'AlCl3', 'AlF3', 'B', 'BCl3', 'BF3', 'C2Cl4', 'C2F4', 'C2H3', 'C2H5', 'C2H6CHOH', 'C2H6NH', 'C2H6SO', 'C3H4_C2v', 'C3H4_C3v', 'C3H4_D2d', 'C3H6_Cs', 'C3H6_D3h', 'C3H7', 'C3H7Cl', 'C3H8', 'C3H9C', 'C3H9N', 'C4H4NH', 'C4H4O', 'C4H4S', 'C5H5N', 'C5H8', 'C6H6', 'CCH', 'CCl4', 'CF3CN', 'CF4', 'CH2NHCH2', 'CH2OCH2', 'CH2SCH2', 'CH3CH2Cl', 'CH3CH2NH2', 'CH3CH2O', 'CH3CH2OCH3', 'CH3CH2OH', 'CH3CH2SH', 'CH3CHO', 'CH3CN', 'CH3CO', 'CH3COCH3', 'CH3COCl', 'CH3COF', 'CH3CONH2', 'CH3COOH', 'CH3NO2', 'CH3O', 'CH3OCH3', 'CH3ONO', 'CH3S', 'CH3SCH3', 'CH3SiH3', 'COF2', 'CS2', 'ClF3', 'ClNO', 'F2O', 'H2', 'H2CCHCN', 'H2CCHCl', 'H2CCHF', 'H2CCO', 'H2CCl2', 'H2CF2', 'H2COH', 'H3CNH2', 'HCCl3', 'HCF3', 'HCOOCH3', 'HCOOH', 'N2O', 'NCCN', 'NF3', 'NO2', 'O3', 'OCHCHO', 'OCS', 'PF3', 'SH', 'SiCl4', 'SiF4', 'bicyclobutane', 'butadiene', 'cyclobutane', 'cyclobutene', 'isobutane', 'isobutene', 'methylenecyclopropane', 'trans-butane'])\n",
      "dict_keys(['Be', 'BeH', 'C', 'C2H2', 'C2H4', 'C2H6', 'CH', 'CH2_s1A1d', 'CH2_s3B1d', 'CH3', 'CH3Cl', 'CH3OH', 'CH3SH', 'CH4', 'CN', 'CO', 'CO2', 'CS', 'Cl', 'Cl2', 'ClF', 'ClO', 'F', 'F2', 'H', 'H2CO', 'H2O', 'H2O2', 'HCN', 'HCO', 'HCl', 'HF', 'HOCl', 'Li', 'Li2', 'LiF', 'LiH', 'N', 'N2', 'N2H4', 'NH', 'NH2', 'NH3', 'NO', 'Na', 'Na2', 'NaCl', 'O', 'O2', 'OH', 'P', 'P2', 'PH2', 'PH3', 'S', 'S2', 'SH2', 'SO', 'SO2', 'Si', 'Si2', 'Si2H6', 'SiH2_s1A1d', 'SiH2_s3B1d', 'SiH3', 'SiH4', 'SiO', '2-butyne', 'Al', 'AlCl3', 'AlF3', 'B', 'BCl3', 'BF3', 'C2Cl4', 'C2F4', 'C2H3', 'C2H5', 'C2H6CHOH', 'C2H6NH', 'C2H6SO', 'C3H4_C2v', 'C3H4_C3v', 'C3H4_D2d', 'C3H6_Cs', 'C3H6_D3h', 'C3H7', 'C3H7Cl', 'C3H8', 'C3H9C', 'C3H9N', 'C4H4NH', 'C4H4O', 'C4H4S', 'C5H5N', 'C5H8', 'C6H6', 'CCH', 'CCl4', 'CF3CN', 'CF4', 'CH2NHCH2', 'CH2OCH2', 'CH2SCH2', 'CH3CH2Cl', 'CH3CH2NH2', 'CH3CH2O', 'CH3CH2OCH3', 'CH3CH2OH', 'CH3CH2SH', 'CH3CHO', 'CH3CN', 'CH3CO', 'CH3COCH3', 'CH3COCl', 'CH3COF', 'CH3CONH2', 'CH3COOH', 'CH3NO2', 'CH3O', 'CH3OCH3', 'CH3ONO', 'CH3S', 'CH3SCH3', 'CH3SiH3', 'COF2', 'CS2', 'ClF3', 'ClNO', 'F2O', 'H2', 'H2CCHCN', 'H2CCHCl', 'H2CCHF', 'H2CCO', 'H2CCl2', 'H2CF2', 'H2COH', 'H3CNH2', 'HCCl3', 'HCF3', 'HCOOCH3', 'HCOOH', 'N2O', 'NCCN', 'NF3', 'NO2', 'O3', 'OCHCHO', 'OCS', 'PF3', 'SH', 'SiCl4', 'SiF4', 'bicyclobutane', 'butadiene', 'cyclobutane', 'cyclobutene', 'isobutane', 'isobutene', 'methylenecyclopropane', 'trans-butane'])\n",
      "dict_keys(['Be', 'BeH', 'C', 'C2H2', 'C2H4', 'C2H6', 'CH', 'CH2_s1A1d', 'CH2_s3B1d', 'CH3', 'CH3Cl', 'CH3OH', 'CH3SH', 'CH4', 'CN', 'CO', 'CO2', 'CS', 'Cl', 'Cl2', 'ClF', 'ClO', 'F', 'F2', 'H', 'H2CO', 'H2O', 'H2O2', 'HCN', 'HCO', 'HCl', 'HF', 'HOCl', 'Li', 'Li2', 'LiF', 'LiH', 'N', 'N2', 'N2H4', 'NH', 'NH2', 'NH3', 'NO', 'Na', 'Na2', 'NaCl', 'O', 'O2', 'OH', 'P', 'P2', 'PH2', 'PH3', 'S', 'S2', 'SH2', 'SO', 'SO2', 'Si', 'Si2', 'Si2H6', 'SiH2_s1A1d', 'SiH2_s3B1d', 'SiH3', 'SiH4', 'SiO', '2-butyne', 'Al', 'AlCl3', 'AlF3', 'B', 'BCl3', 'BF3', 'C2Cl4', 'C2F4', 'C2H3', 'C2H5', 'C2H6CHOH', 'C2H6NH', 'C2H6SO', 'C3H4_C2v', 'C3H4_C3v', 'C3H4_D2d', 'C3H6_Cs', 'C3H6_D3h', 'C3H7', 'C3H7Cl', 'C3H8', 'C3H9C', 'C3H9N', 'C4H4NH', 'C4H4O', 'C4H4S', 'C5H5N', 'C5H8', 'C6H6', 'CCH', 'CCl4', 'CF3CN', 'CF4', 'CH2NHCH2', 'CH2OCH2', 'CH2SCH2', 'CH3CH2Cl', 'CH3CH2NH2', 'CH3CH2O', 'CH3CH2OCH3', 'CH3CH2OH', 'CH3CH2SH', 'CH3CHO', 'CH3CN', 'CH3CO', 'CH3COCH3', 'CH3COCl', 'CH3COF', 'CH3CONH2', 'CH3COOH', 'CH3NO2', 'CH3O', 'CH3OCH3', 'CH3ONO', 'CH3S', 'CH3SCH3', 'CH3SiH3', 'COF2', 'CS2', 'ClF3', 'ClNO', 'F2O', 'H2', 'H2CCHCN', 'H2CCHCl', 'H2CCHF', 'H2CCO', 'H2CCl2', 'H2CF2', 'H2COH', 'H3CNH2', 'HCCl3', 'HCF3', 'HCOOCH3', 'HCOOH', 'N2O', 'NCCN', 'NF3', 'NO2', 'O3', 'OCHCHO', 'OCS', 'PF3', 'SH', 'SiCl4', 'SiF4', 'bicyclobutane', 'butadiene', 'cyclobutane', 'cyclobutene', 'isobutane', 'isobutene', 'methylenecyclopropane', 'trans-butane'])\n",
      "dict_keys(['Be', 'BeH', 'C', 'C2H2', 'C2H4', 'C2H6', 'CH', 'CH2_s1A1d', 'CH2_s3B1d', 'CH3', 'CH3Cl', 'CH3OH', 'CH3SH', 'CH4', 'CN', 'CO', 'CO2', 'CS', 'Cl', 'Cl2', 'ClF', 'ClO', 'F', 'F2', 'H', 'H2CO', 'H2O', 'H2O2', 'HCN', 'HCO', 'HCl', 'HF', 'HOCl', 'Li', 'Li2', 'LiF', 'LiH', 'N', 'N2', 'N2H4', 'NH', 'NH2', 'NH3', 'NO', 'Na', 'Na2', 'NaCl', 'O', 'O2', 'OH', 'P', 'P2', 'PH2', 'PH3', 'S', 'S2', 'SH2', 'SO', 'SO2', 'Si', 'Si2', 'Si2H6', 'SiH2_s1A1d', 'SiH2_s3B1d', 'SiH3', 'SiH4', 'SiO', '2-butyne', 'Al', 'AlCl3', 'AlF3', 'B', 'BCl3', 'BF3', 'C2Cl4', 'C2F4', 'C2H3', 'C2H5', 'C2H6CHOH', 'C2H6NH', 'C2H6SO', 'C3H4_C2v', 'C3H4_C3v', 'C3H4_D2d', 'C3H6_Cs', 'C3H6_D3h', 'C3H7', 'C3H7Cl', 'C3H8', 'C3H9C', 'C3H9N', 'C4H4NH', 'C4H4O', 'C4H4S', 'C5H5N', 'C5H8', 'C6H6', 'CCH', 'CCl4', 'CF3CN', 'CF4', 'CH2NHCH2', 'CH2OCH2', 'CH2SCH2', 'CH3CH2Cl', 'CH3CH2NH2', 'CH3CH2O', 'CH3CH2OCH3', 'CH3CH2OH', 'CH3CH2SH', 'CH3CHO', 'CH3CN', 'CH3CO', 'CH3COCH3', 'CH3COCl', 'CH3COF', 'CH3CONH2', 'CH3COOH', 'CH3NO2', 'CH3O', 'CH3OCH3', 'CH3ONO', 'CH3S', 'CH3SCH3', 'CH3SiH3', 'COF2', 'CS2', 'ClF3', 'ClNO', 'F2O', 'H2', 'H2CCHCN', 'H2CCHCl', 'H2CCHF', 'H2CCO', 'H2CCl2', 'H2CF2', 'H2COH', 'H3CNH2', 'HCCl3', 'HCF3', 'HCOOCH3', 'HCOOH', 'N2O', 'NCCN', 'NF3', 'NO2', 'O3', 'OCHCHO', 'OCS', 'PF3', 'SH', 'SiCl4', 'SiF4', 'bicyclobutane', 'butadiene', 'cyclobutane', 'cyclobutene', 'isobutane', 'isobutene', 'methylenecyclopropane', 'trans-butane'])\n",
      "dict_keys(['Be', 'BeH', 'C', 'C2H2', 'C2H4', 'C2H6', 'CH', 'CH2_s1A1d', 'CH2_s3B1d', 'CH3', 'CH3Cl', 'CH3OH', 'CH3SH', 'CH4', 'CN', 'CO', 'CO2', 'CS', 'Cl', 'Cl2', 'ClF', 'ClO', 'F', 'F2', 'H', 'H2CO', 'H2O', 'H2O2', 'HCN', 'HCO', 'HCl', 'HF', 'HOCl', 'Li', 'Li2', 'LiF', 'LiH', 'N', 'N2', 'N2H4', 'NH', 'NH2', 'NH3', 'NO', 'Na', 'Na2', 'NaCl', 'O', 'O2', 'OH', 'P', 'P2', 'PH2', 'PH3', 'S', 'S2', 'SH2', 'SO', 'SO2', 'Si', 'Si2', 'Si2H6', 'SiH2_s1A1d', 'SiH2_s3B1d', 'SiH3', 'SiH4', 'SiO', '2-butyne', 'Al', 'AlCl3', 'AlF3', 'B', 'BCl3', 'BF3', 'C2Cl4', 'C2F4', 'C2H3', 'C2H5', 'C2H6CHOH', 'C2H6NH', 'C2H6SO', 'C3H4_C2v', 'C3H4_C3v', 'C3H4_D2d', 'C3H6_Cs', 'C3H6_D3h', 'C3H7', 'C3H7Cl', 'C3H8', 'C3H9C', 'C3H9N', 'C4H4NH', 'C4H4O', 'C4H4S', 'C5H5N', 'C5H8', 'C6H6', 'CCH', 'CCl4', 'CF3CN', 'CF4', 'CH2NHCH2', 'CH2OCH2', 'CH2SCH2', 'CH3CH2Cl', 'CH3CH2NH2', 'CH3CH2O', 'CH3CH2OCH3', 'CH3CH2OH', 'CH3CH2SH', 'CH3CHO', 'CH3CN', 'CH3CO', 'CH3COCH3', 'CH3COCl', 'CH3COF', 'CH3CONH2', 'CH3COOH', 'CH3NO2', 'CH3O', 'CH3OCH3', 'CH3ONO', 'CH3S', 'CH3SCH3', 'CH3SiH3', 'COF2', 'CS2', 'ClF3', 'ClNO', 'F2O', 'H2', 'H2CCHCN', 'H2CCHCl', 'H2CCHF', 'H2CCO', 'H2CCl2', 'H2CF2', 'H2COH', 'H3CNH2', 'HCCl3', 'HCF3', 'HCOOCH3', 'HCOOH', 'N2O', 'NCCN', 'NF3', 'NO2', 'O3', 'OCHCHO', 'OCS', 'PF3', 'SH', 'SiCl4', 'SiF4', 'bicyclobutane', 'butadiene', 'cyclobutane', 'cyclobutene', 'isobutane', 'isobutene', 'methylenecyclopropane', 'trans-butane'])\n",
      "dict_keys(['Be', 'BeH', 'C', 'C2H2', 'C2H4', 'C2H6', 'CH', 'CH2_s1A1d', 'CH2_s3B1d', 'CH3', 'CH3Cl', 'CH3OH', 'CH3SH', 'CH4', 'CN', 'CO', 'CO2', 'CS', 'Cl', 'Cl2', 'ClF', 'ClO', 'F', 'F2', 'H', 'H2CO', 'H2O', 'H2O2', 'HCN', 'HCO', 'HCl', 'HF', 'HOCl', 'Li', 'Li2', 'LiF', 'LiH', 'N', 'N2', 'N2H4', 'NH', 'NH2', 'NH3', 'NO', 'Na', 'Na2', 'NaCl', 'O', 'O2', 'OH', 'P', 'P2', 'PH2', 'PH3', 'S', 'S2', 'SH2', 'SO', 'SO2', 'Si', 'Si2', 'Si2H6', 'SiH2_s1A1d', 'SiH2_s3B1d', 'SiH3', 'SiH4', 'SiO', '2-butyne', 'Al', 'AlCl3', 'AlF3', 'B', 'BCl3', 'BF3', 'C2Cl4', 'C2F4', 'C2H3', 'C2H5', 'C2H6CHOH', 'C2H6NH', 'C2H6SO', 'C3H4_C2v', 'C3H4_C3v', 'C3H4_D2d', 'C3H6_Cs', 'C3H6_D3h', 'C3H7', 'C3H7Cl', 'C3H8', 'C3H9C', 'C3H9N', 'C4H4NH', 'C4H4O', 'C4H4S', 'C5H5N', 'C5H8', 'C6H6', 'CCH', 'CCl4', 'CF3CN', 'CF4', 'CH2NHCH2', 'CH2OCH2', 'CH2SCH2', 'CH3CH2Cl', 'CH3CH2NH2', 'CH3CH2O', 'CH3CH2OCH3', 'CH3CH2OH', 'CH3CH2SH', 'CH3CHO', 'CH3CN', 'CH3CO', 'CH3COCH3', 'CH3COCl', 'CH3COF', 'CH3CONH2', 'CH3COOH', 'CH3NO2', 'CH3O', 'CH3OCH3', 'CH3ONO', 'CH3S', 'CH3SCH3', 'CH3SiH3', 'COF2', 'CS2', 'ClF3', 'ClNO', 'F2O', 'H2', 'H2CCHCN', 'H2CCHCl', 'H2CCHF', 'H2CCO', 'H2CCl2', 'H2CF2', 'H2COH', 'H3CNH2', 'HCCl3', 'HCF3', 'HCOOCH3', 'HCOOH', 'N2O', 'NCCN', 'NF3', 'NO2', 'O3', 'OCHCHO', 'OCS', 'PF3', 'SH', 'SiCl4', 'SiF4', 'bicyclobutane', 'butadiene', 'cyclobutane', 'cyclobutene', 'isobutane', 'isobutene', 'methylenecyclopropane', 'trans-butane'])\n",
      "dict_keys(['Be', 'BeH', 'C', 'C2H2', 'C2H4', 'C2H6', 'CH', 'CH2_s1A1d', 'CH2_s3B1d', 'CH3', 'CH3Cl', 'CH3OH', 'CH3SH', 'CH4', 'CN', 'CO', 'CO2', 'CS', 'Cl', 'Cl2', 'ClF', 'ClO', 'F', 'F2', 'H', 'H2CO', 'H2O', 'H2O2', 'HCN', 'HCO', 'HCl', 'HF', 'HOCl', 'Li', 'Li2', 'LiF', 'LiH', 'N', 'N2', 'N2H4', 'NH', 'NH2', 'NH3', 'NO', 'Na', 'Na2', 'NaCl', 'O', 'O2', 'OH', 'P', 'P2', 'PH2', 'PH3', 'S', 'S2', 'SH2', 'SO', 'SO2', 'Si', 'Si2', 'Si2H6', 'SiH2_s1A1d', 'SiH2_s3B1d', 'SiH3', 'SiH4', 'SiO', '2-butyne', 'Al', 'AlCl3', 'AlF3', 'B', 'BCl3', 'BF3', 'C2Cl4', 'C2F4', 'C2H3', 'C2H5', 'C2H6CHOH', 'C2H6NH', 'C2H6SO', 'C3H4_C2v', 'C3H4_C3v', 'C3H4_D2d', 'C3H6_Cs', 'C3H6_D3h', 'C3H7', 'C3H7Cl', 'C3H8', 'C3H9C', 'C3H9N', 'C4H4NH', 'C4H4O', 'C4H4S', 'C5H5N', 'C5H8', 'C6H6', 'CCH', 'CCl4', 'CF3CN', 'CF4', 'CH2NHCH2', 'CH2OCH2', 'CH2SCH2', 'CH3CH2Cl', 'CH3CH2NH2', 'CH3CH2O', 'CH3CH2OCH3', 'CH3CH2OH', 'CH3CH2SH', 'CH3CHO', 'CH3CN', 'CH3CO', 'CH3COCH3', 'CH3COCl', 'CH3COF', 'CH3CONH2', 'CH3COOH', 'CH3NO2', 'CH3O', 'CH3OCH3', 'CH3ONO', 'CH3S', 'CH3SCH3', 'CH3SiH3', 'COF2', 'CS2', 'ClF3', 'ClNO', 'F2O', 'H2', 'H2CCHCN', 'H2CCHCl', 'H2CCHF', 'H2CCO', 'H2CCl2', 'H2CF2', 'H2COH', 'H3CNH2', 'HCCl3', 'HCF3', 'HCOOCH3', 'HCOOH', 'N2O', 'NCCN', 'NF3', 'NO2', 'O3', 'OCHCHO', 'OCS', 'PF3', 'SH', 'SiCl4', 'SiF4', 'bicyclobutane', 'butadiene', 'cyclobutane', 'cyclobutene', 'isobutane', 'isobutene', 'methylenecyclopropane', 'trans-butane'])\n",
      "dict_keys(['Be', 'BeH', 'C', 'C2H2', 'C2H4', 'C2H6', 'CH', 'CH2_s1A1d', 'CH2_s3B1d', 'CH3', 'CH3Cl', 'CH3OH', 'CH3SH', 'CH4', 'CN', 'CO', 'CO2', 'CS', 'Cl', 'Cl2', 'ClF', 'ClO', 'F', 'F2', 'H', 'H2CO', 'H2O', 'H2O2', 'HCN', 'HCO', 'HCl', 'HF', 'HOCl', 'Li', 'Li2', 'LiF', 'LiH', 'N', 'N2', 'N2H4', 'NH', 'NH2', 'NH3', 'NO', 'Na', 'Na2', 'NaCl', 'O', 'O2', 'OH', 'P', 'P2', 'PH2', 'PH3', 'S', 'S2', 'SH2', 'SO', 'SO2', 'Si', 'Si2', 'Si2H6', 'SiH2_s1A1d', 'SiH2_s3B1d', 'SiH3', 'SiH4', 'SiO', '2-butyne', 'Al', 'AlCl3', 'AlF3', 'B', 'BCl3', 'BF3', 'C2Cl4', 'C2F4', 'C2H3', 'C2H5', 'C2H6CHOH', 'C2H6NH', 'C2H6SO', 'C3H4_C2v', 'C3H4_C3v', 'C3H4_D2d', 'C3H6_Cs', 'C3H6_D3h', 'C3H7', 'C3H7Cl', 'C3H8', 'C3H9C', 'C3H9N', 'C4H4NH', 'C4H4O', 'C4H4S', 'C5H5N', 'C5H8', 'C6H6', 'CCH', 'CCl4', 'CF3CN', 'CF4', 'CH2NHCH2', 'CH2OCH2', 'CH2SCH2', 'CH3CH2Cl', 'CH3CH2NH2', 'CH3CH2O', 'CH3CH2OCH3', 'CH3CH2OH', 'CH3CH2SH', 'CH3CHO', 'CH3CN', 'CH3CO', 'CH3COCH3', 'CH3COCl', 'CH3COF', 'CH3CONH2', 'CH3COOH', 'CH3NO2', 'CH3O', 'CH3OCH3', 'CH3ONO', 'CH3S', 'CH3SCH3', 'CH3SiH3', 'COF2', 'CS2', 'ClF3', 'ClNO', 'F2O', 'H2', 'H2CCHCN', 'H2CCHCl', 'H2CCHF', 'H2CCO', 'H2CCl2', 'H2CF2', 'H2COH', 'H3CNH2', 'HCCl3', 'HCF3', 'HCOOCH3', 'HCOOH', 'N2O', 'NCCN', 'NF3', 'NO2', 'O3', 'OCHCHO', 'OCS', 'PF3', 'SH', 'SiCl4', 'SiF4', 'bicyclobutane', 'butadiene', 'cyclobutane', 'cyclobutene', 'isobutane', 'isobutene', 'methylenecyclopropane', 'trans-butane'])\n",
      "dict_keys(['Be', 'BeH', 'C', 'C2H2', 'C2H4', 'C2H6', 'CH', 'CH2_s1A1d', 'CH2_s3B1d', 'CH3', 'CH3Cl', 'CH3OH', 'CH3SH', 'CH4', 'CN', 'CO', 'CO2', 'CS', 'Cl', 'Cl2', 'ClF', 'ClO', 'F', 'F2', 'H', 'H2CO', 'H2O', 'H2O2', 'HCN', 'HCO', 'HCl', 'HF', 'HOCl', 'Li', 'Li2', 'LiF', 'LiH', 'N', 'N2', 'N2H4', 'NH', 'NH2', 'NH3', 'NO', 'Na', 'Na2', 'NaCl', 'O', 'O2', 'OH', 'P', 'P2', 'PH2', 'PH3', 'S', 'S2', 'SH2', 'SO', 'SO2', 'Si', 'Si2', 'Si2H6', 'SiH2_s1A1d', 'SiH2_s3B1d', 'SiH3', 'SiH4', 'SiO', '2-butyne', 'Al', 'AlCl3', 'AlF3', 'B', 'BCl3', 'BF3', 'C2Cl4', 'C2F4', 'C2H3', 'C2H5', 'C2H6CHOH', 'C2H6NH', 'C2H6SO', 'C3H4_C2v', 'C3H4_C3v', 'C3H4_D2d', 'C3H6_Cs', 'C3H6_D3h', 'C3H7', 'C3H7Cl', 'C3H8', 'C3H9C', 'C3H9N', 'C4H4NH', 'C4H4O', 'C4H4S', 'C5H5N', 'C5H8', 'C6H6', 'CCH', 'CCl4', 'CF3CN', 'CF4', 'CH2NHCH2', 'CH2OCH2', 'CH2SCH2', 'CH3CH2Cl', 'CH3CH2NH2', 'CH3CH2O', 'CH3CH2OCH3', 'CH3CH2OH', 'CH3CH2SH', 'CH3CHO', 'CH3CN', 'CH3CO', 'CH3COCH3', 'CH3COCl', 'CH3COF', 'CH3CONH2', 'CH3COOH', 'CH3NO2', 'CH3O', 'CH3OCH3', 'CH3ONO', 'CH3S', 'CH3SCH3', 'CH3SiH3', 'COF2', 'CS2', 'ClF3', 'ClNO', 'F2O', 'H2', 'H2CCHCN', 'H2CCHCl', 'H2CCHF', 'H2CCO', 'H2CCl2', 'H2CF2', 'H2COH', 'H3CNH2', 'HCCl3', 'HCF3', 'HCOOCH3', 'HCOOH', 'N2O', 'NCCN', 'NF3', 'NO2', 'O3', 'OCHCHO', 'OCS', 'PF3', 'SH', 'SiCl4', 'SiF4', 'bicyclobutane', 'butadiene', 'cyclobutane', 'cyclobutene', 'isobutane', 'isobutene', 'methylenecyclopropane', 'trans-butane'])\n",
      "dict_keys(['Be', 'BeH', 'C', 'C2H2', 'C2H4', 'C2H6', 'CH', 'CH2_s1A1d', 'CH2_s3B1d', 'CH3', 'CH3Cl', 'CH3OH', 'CH3SH', 'CH4', 'CN', 'CO', 'CO2', 'CS', 'Cl', 'Cl2', 'ClF', 'ClO', 'F', 'F2', 'H', 'H2CO', 'H2O', 'H2O2', 'HCN', 'HCO', 'HCl', 'HF', 'HOCl', 'Li', 'Li2', 'LiF', 'LiH', 'N', 'N2', 'N2H4', 'NH', 'NH2', 'NH3', 'NO', 'Na', 'Na2', 'NaCl', 'O', 'O2', 'OH', 'P', 'P2', 'PH2', 'PH3', 'S', 'S2', 'SH2', 'SO', 'SO2', 'Si', 'Si2', 'Si2H6', 'SiH2_s1A1d', 'SiH2_s3B1d', 'SiH3', 'SiH4', 'SiO', '2-butyne', 'Al', 'AlCl3', 'AlF3', 'B', 'BCl3', 'BF3', 'C2Cl4', 'C2F4', 'C2H3', 'C2H5', 'C2H6CHOH', 'C2H6NH', 'C2H6SO', 'C3H4_C2v', 'C3H4_C3v', 'C3H4_D2d', 'C3H6_Cs', 'C3H6_D3h', 'C3H7', 'C3H7Cl', 'C3H8', 'C3H9C', 'C3H9N', 'C4H4NH', 'C4H4O', 'C4H4S', 'C5H5N', 'C5H8', 'C6H6', 'CCH', 'CCl4', 'CF3CN', 'CF4', 'CH2NHCH2', 'CH2OCH2', 'CH2SCH2', 'CH3CH2Cl', 'CH3CH2NH2', 'CH3CH2O', 'CH3CH2OCH3', 'CH3CH2OH', 'CH3CH2SH', 'CH3CHO', 'CH3CN', 'CH3CO', 'CH3COCH3', 'CH3COCl', 'CH3COF', 'CH3CONH2', 'CH3COOH', 'CH3NO2', 'CH3O', 'CH3OCH3', 'CH3ONO', 'CH3S', 'CH3SCH3', 'CH3SiH3', 'COF2', 'CS2', 'ClF3', 'ClNO', 'F2O', 'H2', 'H2CCHCN', 'H2CCHCl', 'H2CCHF', 'H2CCO', 'H2CCl2', 'H2CF2', 'H2COH', 'H3CNH2', 'HCCl3', 'HCF3', 'HCOOCH3', 'HCOOH', 'N2O', 'NCCN', 'NF3', 'NO2', 'O3', 'OCHCHO', 'OCS', 'PF3', 'SH', 'SiCl4', 'SiF4', 'bicyclobutane', 'butadiene', 'cyclobutane', 'cyclobutene', 'isobutane', 'isobutene', 'methylenecyclopropane', 'trans-butane'])\n",
      "dict_keys(['Be', 'BeH', 'C', 'C2H2', 'C2H4', 'C2H6', 'CH', 'CH2_s1A1d', 'CH2_s3B1d', 'CH3', 'CH3Cl', 'CH3OH', 'CH3SH', 'CH4', 'CN', 'CO', 'CO2', 'CS', 'Cl', 'Cl2', 'ClF', 'ClO', 'F', 'F2', 'H', 'H2CO', 'H2O', 'H2O2', 'HCN', 'HCO', 'HCl', 'HF', 'HOCl', 'Li', 'Li2', 'LiF', 'LiH', 'N', 'N2', 'N2H4', 'NH', 'NH2', 'NH3', 'NO', 'Na', 'Na2', 'NaCl', 'O', 'O2', 'OH', 'P', 'P2', 'PH2', 'PH3', 'S', 'S2', 'SH2', 'SO', 'SO2', 'Si', 'Si2', 'Si2H6', 'SiH2_s1A1d', 'SiH2_s3B1d', 'SiH3', 'SiH4', 'SiO', '2-butyne', 'Al', 'AlCl3', 'AlF3', 'B', 'BCl3', 'BF3', 'C2Cl4', 'C2F4', 'C2H3', 'C2H5', 'C2H6CHOH', 'C2H6NH', 'C2H6SO', 'C3H4_C2v', 'C3H4_C3v', 'C3H4_D2d', 'C3H6_Cs', 'C3H6_D3h', 'C3H7', 'C3H7Cl', 'C3H8', 'C3H9C', 'C3H9N', 'C4H4NH', 'C4H4O', 'C4H4S', 'C5H5N', 'C5H8', 'C6H6', 'CCH', 'CCl4', 'CF3CN', 'CF4', 'CH2NHCH2', 'CH2OCH2', 'CH2SCH2', 'CH3CH2Cl', 'CH3CH2NH2', 'CH3CH2O', 'CH3CH2OCH3', 'CH3CH2OH', 'CH3CH2SH', 'CH3CHO', 'CH3CN', 'CH3CO', 'CH3COCH3', 'CH3COCl', 'CH3COF', 'CH3CONH2', 'CH3COOH', 'CH3NO2', 'CH3O', 'CH3OCH3', 'CH3ONO', 'CH3S', 'CH3SCH3', 'CH3SiH3', 'COF2', 'CS2', 'ClF3', 'ClNO', 'F2O', 'H2', 'H2CCHCN', 'H2CCHCl', 'H2CCHF', 'H2CCO', 'H2CCl2', 'H2CF2', 'H2COH', 'H3CNH2', 'HCCl3', 'HCF3', 'HCOOCH3', 'HCOOH', 'N2O', 'NCCN', 'NF3', 'NO2', 'O3', 'OCHCHO', 'OCS', 'PF3', 'SH', 'SiCl4', 'SiF4', 'bicyclobutane', 'butadiene', 'cyclobutane', 'cyclobutene', 'isobutane', 'isobutene', 'methylenecyclopropane', 'trans-butane'])\n",
      "dict_keys(['Be', 'BeH', 'C', 'C2H2', 'C2H4', 'C2H6', 'CH', 'CH2_s1A1d', 'CH2_s3B1d', 'CH3', 'CH3Cl', 'CH3OH', 'CH3SH', 'CH4', 'CN', 'CO', 'CO2', 'CS', 'Cl', 'Cl2', 'ClF', 'ClO', 'F', 'F2', 'H', 'H2CO', 'H2O', 'H2O2', 'HCN', 'HCO', 'HCl', 'HF', 'HOCl', 'Li', 'Li2', 'LiF', 'LiH', 'N', 'N2', 'N2H4', 'NH', 'NH2', 'NH3', 'NO', 'Na', 'Na2', 'NaCl', 'O', 'O2', 'OH', 'P', 'P2', 'PH2', 'PH3', 'S', 'S2', 'SH2', 'SO', 'SO2', 'Si', 'Si2', 'Si2H6', 'SiH2_s1A1d', 'SiH2_s3B1d', 'SiH3', 'SiH4', 'SiO', '2-butyne', 'Al', 'AlCl3', 'AlF3', 'B', 'BCl3', 'BF3', 'C2Cl4', 'C2F4', 'C2H3', 'C2H5', 'C2H6CHOH', 'C2H6NH', 'C2H6SO', 'C3H4_C2v', 'C3H4_C3v', 'C3H4_D2d', 'C3H6_Cs', 'C3H6_D3h', 'C3H7', 'C3H7Cl', 'C3H8', 'C3H9C', 'C3H9N', 'C4H4NH', 'C4H4O', 'C4H4S', 'C5H5N', 'C5H8', 'C6H6', 'CCH', 'CCl4', 'CF3CN', 'CF4', 'CH2NHCH2', 'CH2OCH2', 'CH2SCH2', 'CH3CH2Cl', 'CH3CH2NH2', 'CH3CH2O', 'CH3CH2OCH3', 'CH3CH2OH', 'CH3CH2SH', 'CH3CHO', 'CH3CN', 'CH3CO', 'CH3COCH3', 'CH3COCl', 'CH3COF', 'CH3CONH2', 'CH3COOH', 'CH3NO2', 'CH3O', 'CH3OCH3', 'CH3ONO', 'CH3S', 'CH3SCH3', 'CH3SiH3', 'COF2', 'CS2', 'ClF3', 'ClNO', 'F2O', 'H2', 'H2CCHCN', 'H2CCHCl', 'H2CCHF', 'H2CCO', 'H2CCl2', 'H2CF2', 'H2COH', 'H3CNH2', 'HCCl3', 'HCF3', 'HCOOCH3', 'HCOOH', 'N2O', 'NCCN', 'NF3', 'NO2', 'O3', 'OCHCHO', 'OCS', 'PF3', 'SH', 'SiCl4', 'SiF4', 'bicyclobutane', 'butadiene', 'cyclobutane', 'cyclobutene', 'isobutane', 'isobutene', 'methylenecyclopropane', 'trans-butane'])\n",
      "dict_keys(['Be', 'BeH', 'C', 'C2H2', 'C2H4', 'C2H6', 'CH', 'CH2_s1A1d', 'CH2_s3B1d', 'CH3', 'CH3Cl', 'CH3OH', 'CH3SH', 'CH4', 'CN', 'CO', 'CO2', 'CS', 'Cl', 'Cl2', 'ClF', 'ClO', 'F', 'F2', 'H', 'H2CO', 'H2O', 'H2O2', 'HCN', 'HCO', 'HCl', 'HF', 'HOCl', 'Li', 'Li2', 'LiF', 'LiH', 'N', 'N2', 'N2H4', 'NH', 'NH2', 'NH3', 'NO', 'Na', 'Na2', 'NaCl', 'O', 'O2', 'OH', 'P', 'P2', 'PH2', 'PH3', 'S', 'S2', 'SH2', 'SO', 'SO2', 'Si', 'Si2', 'Si2H6', 'SiH2_s1A1d', 'SiH2_s3B1d', 'SiH3', 'SiH4', 'SiO', '2-butyne', 'Al', 'AlCl3', 'AlF3', 'B', 'BCl3', 'BF3', 'C2Cl4', 'C2F4', 'C2H3', 'C2H5', 'C2H6CHOH', 'C2H6NH', 'C2H6SO', 'C3H4_C2v', 'C3H4_C3v', 'C3H4_D2d', 'C3H6_Cs', 'C3H6_D3h', 'C3H7', 'C3H7Cl', 'C3H8', 'C3H9C', 'C3H9N', 'C4H4NH', 'C4H4O', 'C4H4S', 'C5H5N', 'C5H8', 'C6H6', 'CCH', 'CCl4', 'CF3CN', 'CF4', 'CH2NHCH2', 'CH2OCH2', 'CH2SCH2', 'CH3CH2Cl', 'CH3CH2NH2', 'CH3CH2O', 'CH3CH2OCH3', 'CH3CH2OH', 'CH3CH2SH', 'CH3CHO', 'CH3CN', 'CH3CO', 'CH3COCH3', 'CH3COCl', 'CH3COF', 'CH3CONH2', 'CH3COOH', 'CH3NO2', 'CH3O', 'CH3OCH3', 'CH3ONO', 'CH3S', 'CH3SCH3', 'CH3SiH3', 'COF2', 'CS2', 'ClF3', 'ClNO', 'F2O', 'H2', 'H2CCHCN', 'H2CCHCl', 'H2CCHF', 'H2CCO', 'H2CCl2', 'H2CF2', 'H2COH', 'H3CNH2', 'HCCl3', 'HCF3', 'HCOOCH3', 'HCOOH', 'N2O', 'NCCN', 'NF3', 'NO2', 'O3', 'OCHCHO', 'OCS', 'PF3', 'SH', 'SiCl4', 'SiF4', 'bicyclobutane', 'butadiene', 'cyclobutane', 'cyclobutene', 'isobutane', 'isobutene', 'methylenecyclopropane', 'trans-butane'])\n",
      "dict_keys(['Be', 'BeH', 'C', 'C2H2', 'C2H4', 'C2H6', 'CH', 'CH2_s1A1d', 'CH2_s3B1d', 'CH3', 'CH3Cl', 'CH3OH', 'CH3SH', 'CH4', 'CN', 'CO', 'CO2', 'CS', 'Cl', 'Cl2', 'ClF', 'ClO', 'F', 'F2', 'H', 'H2CO', 'H2O', 'H2O2', 'HCN', 'HCO', 'HCl', 'HF', 'HOCl', 'Li', 'Li2', 'LiF', 'LiH', 'N', 'N2', 'N2H4', 'NH', 'NH2', 'NH3', 'NO', 'Na', 'Na2', 'NaCl', 'O', 'O2', 'OH', 'P', 'P2', 'PH2', 'PH3', 'S', 'S2', 'SH2', 'SO', 'SO2', 'Si', 'Si2', 'Si2H6', 'SiH2_s1A1d', 'SiH2_s3B1d', 'SiH3', 'SiH4', 'SiO', '2-butyne', 'Al', 'AlCl3', 'AlF3', 'B', 'BCl3', 'BF3', 'C2Cl4', 'C2F4', 'C2H3', 'C2H5', 'C2H6CHOH', 'C2H6NH', 'C2H6SO', 'C3H4_C2v', 'C3H4_C3v', 'C3H4_D2d', 'C3H6_Cs', 'C3H6_D3h', 'C3H7', 'C3H7Cl', 'C3H8', 'C3H9C', 'C3H9N', 'C4H4NH', 'C4H4O', 'C4H4S', 'C5H5N', 'C5H8', 'C6H6', 'CCH', 'CCl4', 'CF3CN', 'CF4', 'CH2NHCH2', 'CH2OCH2', 'CH2SCH2', 'CH3CH2Cl', 'CH3CH2NH2', 'CH3CH2O', 'CH3CH2OCH3', 'CH3CH2OH', 'CH3CH2SH', 'CH3CHO', 'CH3CN', 'CH3CO', 'CH3COCH3', 'CH3COCl', 'CH3COF', 'CH3CONH2', 'CH3COOH', 'CH3NO2', 'CH3O', 'CH3OCH3', 'CH3ONO', 'CH3S', 'CH3SCH3', 'CH3SiH3', 'COF2', 'CS2', 'ClF3', 'ClNO', 'F2O', 'H2', 'H2CCHCN', 'H2CCHCl', 'H2CCHF', 'H2CCO', 'H2CCl2', 'H2CF2', 'H2COH', 'H3CNH2', 'HCCl3', 'HCF3', 'HCOOCH3', 'HCOOH', 'N2O', 'NCCN', 'NF3', 'NO2', 'O3', 'OCHCHO', 'OCS', 'PF3', 'SH', 'SiCl4', 'SiF4', 'bicyclobutane', 'butadiene', 'cyclobutane', 'cyclobutene', 'isobutane', 'isobutene', 'methylenecyclopropane', 'trans-butane'])\n",
      "dict_keys(['Be', 'BeH', 'C', 'C2H2', 'C2H4', 'C2H6', 'CH', 'CH2_s1A1d', 'CH2_s3B1d', 'CH3', 'CH3Cl', 'CH3OH', 'CH3SH', 'CH4', 'CN', 'CO', 'CO2', 'CS', 'Cl', 'Cl2', 'ClF', 'ClO', 'F', 'F2', 'H', 'H2CO', 'H2O', 'H2O2', 'HCN', 'HCO', 'HCl', 'HF', 'HOCl', 'Li', 'Li2', 'LiF', 'LiH', 'N', 'N2', 'N2H4', 'NH', 'NH2', 'NH3', 'NO', 'Na', 'Na2', 'NaCl', 'O', 'O2', 'OH', 'P', 'P2', 'PH2', 'PH3', 'S', 'S2', 'SH2', 'SO', 'SO2', 'Si', 'Si2', 'Si2H6', 'SiH2_s1A1d', 'SiH2_s3B1d', 'SiH3', 'SiH4', 'SiO', '2-butyne', 'Al', 'AlCl3', 'AlF3', 'B', 'BCl3', 'BF3', 'C2Cl4', 'C2F4', 'C2H3', 'C2H5', 'C2H6CHOH', 'C2H6NH', 'C2H6SO', 'C3H4_C2v', 'C3H4_C3v', 'C3H4_D2d', 'C3H6_Cs', 'C3H6_D3h', 'C3H7', 'C3H7Cl', 'C3H8', 'C3H9C', 'C3H9N', 'C4H4NH', 'C4H4O', 'C4H4S', 'C5H5N', 'C5H8', 'C6H6', 'CCH', 'CCl4', 'CF3CN', 'CF4', 'CH2NHCH2', 'CH2OCH2', 'CH2SCH2', 'CH3CH2Cl', 'CH3CH2NH2', 'CH3CH2O', 'CH3CH2OCH3', 'CH3CH2OH', 'CH3CH2SH', 'CH3CHO', 'CH3CN', 'CH3CO', 'CH3COCH3', 'CH3COCl', 'CH3COF', 'CH3CONH2', 'CH3COOH', 'CH3NO2', 'CH3O', 'CH3OCH3', 'CH3ONO', 'CH3S', 'CH3SCH3', 'CH3SiH3', 'COF2', 'CS2', 'ClF3', 'ClNO', 'F2O', 'H2', 'H2CCHCN', 'H2CCHCl', 'H2CCHF', 'H2CCO', 'H2CCl2', 'H2CF2', 'H2COH', 'H3CNH2', 'HCCl3', 'HCF3', 'HCOOCH3', 'HCOOH', 'N2O', 'NCCN', 'NF3', 'NO2', 'O3', 'OCHCHO', 'OCS', 'PF3', 'SH', 'SiCl4', 'SiF4', 'bicyclobutane', 'butadiene', 'cyclobutane', 'cyclobutene', 'isobutane', 'isobutene', 'methylenecyclopropane', 'trans-butane'])\n",
      "dict_keys(['Be', 'BeH', 'C', 'C2H2', 'C2H4', 'C2H6', 'CH', 'CH2_s1A1d', 'CH2_s3B1d', 'CH3', 'CH3Cl', 'CH3OH', 'CH3SH', 'CH4', 'CN', 'CO', 'CO2', 'CS', 'Cl', 'Cl2', 'ClF', 'ClO', 'F', 'F2', 'H', 'H2CO', 'H2O', 'H2O2', 'HCN', 'HCO', 'HCl', 'HF', 'HOCl', 'Li', 'Li2', 'LiF', 'LiH', 'N', 'N2', 'N2H4', 'NH', 'NH2', 'NH3', 'NO', 'Na', 'Na2', 'NaCl', 'O', 'O2', 'OH', 'P', 'P2', 'PH2', 'PH3', 'S', 'S2', 'SH2', 'SO', 'SO2', 'Si', 'Si2', 'Si2H6', 'SiH2_s1A1d', 'SiH2_s3B1d', 'SiH3', 'SiH4', 'SiO', '2-butyne', 'Al', 'AlCl3', 'AlF3', 'B', 'BCl3', 'BF3', 'C2Cl4', 'C2F4', 'C2H3', 'C2H5', 'C2H6CHOH', 'C2H6NH', 'C2H6SO', 'C3H4_C2v', 'C3H4_C3v', 'C3H4_D2d', 'C3H6_Cs', 'C3H6_D3h', 'C3H7', 'C3H7Cl', 'C3H8', 'C3H9C', 'C3H9N', 'C4H4NH', 'C4H4O', 'C4H4S', 'C5H5N', 'C5H8', 'C6H6', 'CCH', 'CCl4', 'CF3CN', 'CF4', 'CH2NHCH2', 'CH2OCH2', 'CH2SCH2', 'CH3CH2Cl', 'CH3CH2NH2', 'CH3CH2O', 'CH3CH2OCH3', 'CH3CH2OH', 'CH3CH2SH', 'CH3CHO', 'CH3CN', 'CH3CO', 'CH3COCH3', 'CH3COCl', 'CH3COF', 'CH3CONH2', 'CH3COOH', 'CH3NO2', 'CH3O', 'CH3OCH3', 'CH3ONO', 'CH3S', 'CH3SCH3', 'CH3SiH3', 'COF2', 'CS2', 'ClF3', 'ClNO', 'F2O', 'H2', 'H2CCHCN', 'H2CCHCl', 'H2CCHF', 'H2CCO', 'H2CCl2', 'H2CF2', 'H2COH', 'H3CNH2', 'HCCl3', 'HCF3', 'HCOOCH3', 'HCOOH', 'N2O', 'NCCN', 'NF3', 'NO2', 'O3', 'OCHCHO', 'OCS', 'PF3', 'SH', 'SiCl4', 'SiF4', 'bicyclobutane', 'butadiene', 'cyclobutane', 'cyclobutene', 'isobutane', 'isobutene', 'methylenecyclopropane', 'trans-butane'])\n",
      "dict_keys(['Be', 'BeH', 'C', 'C2H2', 'C2H4', 'C2H6', 'CH', 'CH2_s1A1d', 'CH2_s3B1d', 'CH3', 'CH3Cl', 'CH3OH', 'CH3SH', 'CH4', 'CN', 'CO', 'CO2', 'CS', 'Cl', 'Cl2', 'ClF', 'ClO', 'F', 'F2', 'H', 'H2CO', 'H2O', 'H2O2', 'HCN', 'HCO', 'HCl', 'HF', 'HOCl', 'Li', 'Li2', 'LiF', 'LiH', 'N', 'N2', 'N2H4', 'NH', 'NH2', 'NH3', 'NO', 'Na', 'Na2', 'NaCl', 'O', 'O2', 'OH', 'P', 'P2', 'PH2', 'PH3', 'S', 'S2', 'SH2', 'SO', 'SO2', 'Si', 'Si2', 'Si2H6', 'SiH2_s1A1d', 'SiH2_s3B1d', 'SiH3', 'SiH4', 'SiO', '2-butyne', 'Al', 'AlCl3', 'AlF3', 'B', 'BCl3', 'BF3', 'C2Cl4', 'C2F4', 'C2H3', 'C2H5', 'C2H6CHOH', 'C2H6NH', 'C2H6SO', 'C3H4_C2v', 'C3H4_C3v', 'C3H4_D2d', 'C3H6_Cs', 'C3H6_D3h', 'C3H7', 'C3H7Cl', 'C3H8', 'C3H9C', 'C3H9N', 'C4H4NH', 'C4H4O', 'C4H4S', 'C5H5N', 'C5H8', 'C6H6', 'CCH', 'CCl4', 'CF3CN', 'CF4', 'CH2NHCH2', 'CH2OCH2', 'CH2SCH2', 'CH3CH2Cl', 'CH3CH2NH2', 'CH3CH2O', 'CH3CH2OCH3', 'CH3CH2OH', 'CH3CH2SH', 'CH3CHO', 'CH3CN', 'CH3CO', 'CH3COCH3', 'CH3COCl', 'CH3COF', 'CH3CONH2', 'CH3COOH', 'CH3NO2', 'CH3O', 'CH3OCH3', 'CH3ONO', 'CH3S', 'CH3SCH3', 'CH3SiH3', 'COF2', 'CS2', 'ClF3', 'ClNO', 'F2O', 'H2', 'H2CCHCN', 'H2CCHCl', 'H2CCHF', 'H2CCO', 'H2CCl2', 'H2CF2', 'H2COH', 'H3CNH2', 'HCCl3', 'HCF3', 'HCOOCH3', 'HCOOH', 'N2O', 'NCCN', 'NF3', 'NO2', 'O3', 'OCHCHO', 'OCS', 'PF3', 'SH', 'SiCl4', 'SiF4', 'bicyclobutane', 'butadiene', 'cyclobutane', 'cyclobutene', 'isobutane', 'isobutene', 'methylenecyclopropane', 'trans-butane'])\n",
      "dict_keys(['Be', 'BeH', 'C', 'C2H2', 'C2H4', 'C2H6', 'CH', 'CH2_s1A1d', 'CH2_s3B1d', 'CH3', 'CH3Cl', 'CH3OH', 'CH3SH', 'CH4', 'CN', 'CO', 'CO2', 'CS', 'Cl', 'Cl2', 'ClF', 'ClO', 'F', 'F2', 'H', 'H2CO', 'H2O', 'H2O2', 'HCN', 'HCO', 'HCl', 'HF', 'HOCl', 'Li', 'Li2', 'LiF', 'LiH', 'N', 'N2', 'N2H4', 'NH', 'NH2', 'NH3', 'NO', 'Na', 'Na2', 'NaCl', 'O', 'O2', 'OH', 'P', 'P2', 'PH2', 'PH3', 'S', 'S2', 'SH2', 'SO', 'SO2', 'Si', 'Si2', 'Si2H6', 'SiH2_s1A1d', 'SiH2_s3B1d', 'SiH3', 'SiH4', 'SiO', '2-butyne', 'Al', 'AlCl3', 'AlF3', 'B', 'BCl3', 'BF3', 'C2Cl4', 'C2F4', 'C2H3', 'C2H5', 'C2H6CHOH', 'C2H6NH', 'C2H6SO', 'C3H4_C2v', 'C3H4_C3v', 'C3H4_D2d', 'C3H6_Cs', 'C3H6_D3h', 'C3H7', 'C3H7Cl', 'C3H8', 'C3H9C', 'C3H9N', 'C4H4NH', 'C4H4O', 'C4H4S', 'C5H5N', 'C5H8', 'C6H6', 'CCH', 'CCl4', 'CF3CN', 'CF4', 'CH2NHCH2', 'CH2OCH2', 'CH2SCH2', 'CH3CH2Cl', 'CH3CH2NH2', 'CH3CH2O', 'CH3CH2OCH3', 'CH3CH2OH', 'CH3CH2SH', 'CH3CHO', 'CH3CN', 'CH3CO', 'CH3COCH3', 'CH3COCl', 'CH3COF', 'CH3CONH2', 'CH3COOH', 'CH3NO2', 'CH3O', 'CH3OCH3', 'CH3ONO', 'CH3S', 'CH3SCH3', 'CH3SiH3', 'COF2', 'CS2', 'ClF3', 'ClNO', 'F2O', 'H2', 'H2CCHCN', 'H2CCHCl', 'H2CCHF', 'H2CCO', 'H2CCl2', 'H2CF2', 'H2COH', 'H3CNH2', 'HCCl3', 'HCF3', 'HCOOCH3', 'HCOOH', 'N2O', 'NCCN', 'NF3', 'NO2', 'O3', 'OCHCHO', 'OCS', 'PF3', 'SH', 'SiCl4', 'SiF4', 'bicyclobutane', 'butadiene', 'cyclobutane', 'cyclobutene', 'isobutane', 'isobutene', 'methylenecyclopropane', 'trans-butane'])\n",
      "dict_keys(['Be', 'BeH', 'C', 'C2H2', 'C2H4', 'C2H6', 'CH', 'CH2_s1A1d', 'CH2_s3B1d', 'CH3', 'CH3Cl', 'CH3OH', 'CH3SH', 'CH4', 'CN', 'CO', 'CO2', 'CS', 'Cl', 'Cl2', 'ClF', 'ClO', 'F', 'F2', 'H', 'H2CO', 'H2O', 'H2O2', 'HCN', 'HCO', 'HCl', 'HF', 'HOCl', 'Li', 'Li2', 'LiF', 'LiH', 'N', 'N2', 'N2H4', 'NH', 'NH2', 'NH3', 'NO', 'Na', 'Na2', 'NaCl', 'O', 'O2', 'OH', 'P', 'P2', 'PH2', 'PH3', 'S', 'S2', 'SH2', 'SO', 'SO2', 'Si', 'Si2', 'Si2H6', 'SiH2_s1A1d', 'SiH2_s3B1d', 'SiH3', 'SiH4', 'SiO', '2-butyne', 'Al', 'AlCl3', 'AlF3', 'B', 'BCl3', 'BF3', 'C2Cl4', 'C2F4', 'C2H3', 'C2H5', 'C2H6CHOH', 'C2H6NH', 'C2H6SO', 'C3H4_C2v', 'C3H4_C3v', 'C3H4_D2d', 'C3H6_Cs', 'C3H6_D3h', 'C3H7', 'C3H7Cl', 'C3H8', 'C3H9C', 'C3H9N', 'C4H4NH', 'C4H4O', 'C4H4S', 'C5H5N', 'C5H8', 'C6H6', 'CCH', 'CCl4', 'CF3CN', 'CF4', 'CH2NHCH2', 'CH2OCH2', 'CH2SCH2', 'CH3CH2Cl', 'CH3CH2NH2', 'CH3CH2O', 'CH3CH2OCH3', 'CH3CH2OH', 'CH3CH2SH', 'CH3CHO', 'CH3CN', 'CH3CO', 'CH3COCH3', 'CH3COCl', 'CH3COF', 'CH3CONH2', 'CH3COOH', 'CH3NO2', 'CH3O', 'CH3OCH3', 'CH3ONO', 'CH3S', 'CH3SCH3', 'CH3SiH3', 'COF2', 'CS2', 'ClF3', 'ClNO', 'F2O', 'H2', 'H2CCHCN', 'H2CCHCl', 'H2CCHF', 'H2CCO', 'H2CCl2', 'H2CF2', 'H2COH', 'H3CNH2', 'HCCl3', 'HCF3', 'HCOOCH3', 'HCOOH', 'N2O', 'NCCN', 'NF3', 'NO2', 'O3', 'OCHCHO', 'OCS', 'PF3', 'SH', 'SiCl4', 'SiF4', 'bicyclobutane', 'butadiene', 'cyclobutane', 'cyclobutene', 'isobutane', 'isobutene', 'methylenecyclopropane', 'trans-butane'])\n",
      "dict_keys(['Be', 'BeH', 'C', 'C2H2', 'C2H4', 'C2H6', 'CH', 'CH2_s1A1d', 'CH2_s3B1d', 'CH3', 'CH3Cl', 'CH3OH', 'CH3SH', 'CH4', 'CN', 'CO', 'CO2', 'CS', 'Cl', 'Cl2', 'ClF', 'ClO', 'F', 'F2', 'H', 'H2CO', 'H2O', 'H2O2', 'HCN', 'HCO', 'HCl', 'HF', 'HOCl', 'Li', 'Li2', 'LiF', 'LiH', 'N', 'N2', 'N2H4', 'NH', 'NH2', 'NH3', 'NO', 'Na', 'Na2', 'NaCl', 'O', 'O2', 'OH', 'P', 'P2', 'PH2', 'PH3', 'S', 'S2', 'SH2', 'SO', 'SO2', 'Si', 'Si2', 'Si2H6', 'SiH2_s1A1d', 'SiH2_s3B1d', 'SiH3', 'SiH4', 'SiO', '2-butyne', 'Al', 'AlCl3', 'AlF3', 'B', 'BCl3', 'BF3', 'C2Cl4', 'C2F4', 'C2H3', 'C2H5', 'C2H6CHOH', 'C2H6NH', 'C2H6SO', 'C3H4_C2v', 'C3H4_C3v', 'C3H4_D2d', 'C3H6_Cs', 'C3H6_D3h', 'C3H7', 'C3H7Cl', 'C3H8', 'C3H9C', 'C3H9N', 'C4H4NH', 'C4H4O', 'C4H4S', 'C5H5N', 'C5H8', 'C6H6', 'CCH', 'CCl4', 'CF3CN', 'CF4', 'CH2NHCH2', 'CH2OCH2', 'CH2SCH2', 'CH3CH2Cl', 'CH3CH2NH2', 'CH3CH2O', 'CH3CH2OCH3', 'CH3CH2OH', 'CH3CH2SH', 'CH3CHO', 'CH3CN', 'CH3CO', 'CH3COCH3', 'CH3COCl', 'CH3COF', 'CH3CONH2', 'CH3COOH', 'CH3NO2', 'CH3O', 'CH3OCH3', 'CH3ONO', 'CH3S', 'CH3SCH3', 'CH3SiH3', 'COF2', 'CS2', 'ClF3', 'ClNO', 'F2O', 'H2', 'H2CCHCN', 'H2CCHCl', 'H2CCHF', 'H2CCO', 'H2CCl2', 'H2CF2', 'H2COH', 'H3CNH2', 'HCCl3', 'HCF3', 'HCOOCH3', 'HCOOH', 'N2O', 'NCCN', 'NF3', 'NO2', 'O3', 'OCHCHO', 'OCS', 'PF3', 'SH', 'SiCl4', 'SiF4', 'bicyclobutane', 'butadiene', 'cyclobutane', 'cyclobutene', 'isobutane', 'isobutene', 'methylenecyclopropane', 'trans-butane'])\n",
      "dict_keys(['Be', 'BeH', 'C', 'C2H2', 'C2H4', 'C2H6', 'CH', 'CH2_s1A1d', 'CH2_s3B1d', 'CH3', 'CH3Cl', 'CH3OH', 'CH3SH', 'CH4', 'CN', 'CO', 'CO2', 'CS', 'Cl', 'Cl2', 'ClF', 'ClO', 'F', 'F2', 'H', 'H2CO', 'H2O', 'H2O2', 'HCN', 'HCO', 'HCl', 'HF', 'HOCl', 'Li', 'Li2', 'LiF', 'LiH', 'N', 'N2', 'N2H4', 'NH', 'NH2', 'NH3', 'NO', 'Na', 'Na2', 'NaCl', 'O', 'O2', 'OH', 'P', 'P2', 'PH2', 'PH3', 'S', 'S2', 'SH2', 'SO', 'SO2', 'Si', 'Si2', 'Si2H6', 'SiH2_s1A1d', 'SiH2_s3B1d', 'SiH3', 'SiH4', 'SiO', '2-butyne', 'Al', 'AlCl3', 'AlF3', 'B', 'BCl3', 'BF3', 'C2Cl4', 'C2F4', 'C2H3', 'C2H5', 'C2H6CHOH', 'C2H6NH', 'C2H6SO', 'C3H4_C2v', 'C3H4_C3v', 'C3H4_D2d', 'C3H6_Cs', 'C3H6_D3h', 'C3H7', 'C3H7Cl', 'C3H8', 'C3H9C', 'C3H9N', 'C4H4NH', 'C4H4O', 'C4H4S', 'C5H5N', 'C5H8', 'C6H6', 'CCH', 'CCl4', 'CF3CN', 'CF4', 'CH2NHCH2', 'CH2OCH2', 'CH2SCH2', 'CH3CH2Cl', 'CH3CH2NH2', 'CH3CH2O', 'CH3CH2OCH3', 'CH3CH2OH', 'CH3CH2SH', 'CH3CHO', 'CH3CN', 'CH3CO', 'CH3COCH3', 'CH3COCl', 'CH3COF', 'CH3CONH2', 'CH3COOH', 'CH3NO2', 'CH3O', 'CH3OCH3', 'CH3ONO', 'CH3S', 'CH3SCH3', 'CH3SiH3', 'COF2', 'CS2', 'ClF3', 'ClNO', 'F2O', 'H2', 'H2CCHCN', 'H2CCHCl', 'H2CCHF', 'H2CCO', 'H2CCl2', 'H2CF2', 'H2COH', 'H3CNH2', 'HCCl3', 'HCF3', 'HCOOCH3', 'HCOOH', 'N2O', 'NCCN', 'NF3', 'NO2', 'O3', 'OCHCHO', 'OCS', 'PF3', 'SH', 'SiCl4', 'SiF4', 'bicyclobutane', 'butadiene', 'cyclobutane', 'cyclobutene', 'isobutane', 'isobutene', 'methylenecyclopropane', 'trans-butane'])\n",
      "dict_keys(['Be', 'BeH', 'C', 'C2H2', 'C2H4', 'C2H6', 'CH', 'CH2_s1A1d', 'CH2_s3B1d', 'CH3', 'CH3Cl', 'CH3OH', 'CH3SH', 'CH4', 'CN', 'CO', 'CO2', 'CS', 'Cl', 'Cl2', 'ClF', 'ClO', 'F', 'F2', 'H', 'H2CO', 'H2O', 'H2O2', 'HCN', 'HCO', 'HCl', 'HF', 'HOCl', 'Li', 'Li2', 'LiF', 'LiH', 'N', 'N2', 'N2H4', 'NH', 'NH2', 'NH3', 'NO', 'Na', 'Na2', 'NaCl', 'O', 'O2', 'OH', 'P', 'P2', 'PH2', 'PH3', 'S', 'S2', 'SH2', 'SO', 'SO2', 'Si', 'Si2', 'Si2H6', 'SiH2_s1A1d', 'SiH2_s3B1d', 'SiH3', 'SiH4', 'SiO', '2-butyne', 'Al', 'AlCl3', 'AlF3', 'B', 'BCl3', 'BF3', 'C2Cl4', 'C2F4', 'C2H3', 'C2H5', 'C2H6CHOH', 'C2H6NH', 'C2H6SO', 'C3H4_C2v', 'C3H4_C3v', 'C3H4_D2d', 'C3H6_Cs', 'C3H6_D3h', 'C3H7', 'C3H7Cl', 'C3H8', 'C3H9C', 'C3H9N', 'C4H4NH', 'C4H4O', 'C4H4S', 'C5H5N', 'C5H8', 'C6H6', 'CCH', 'CCl4', 'CF3CN', 'CF4', 'CH2NHCH2', 'CH2OCH2', 'CH2SCH2', 'CH3CH2Cl', 'CH3CH2NH2', 'CH3CH2O', 'CH3CH2OCH3', 'CH3CH2OH', 'CH3CH2SH', 'CH3CHO', 'CH3CN', 'CH3CO', 'CH3COCH3', 'CH3COCl', 'CH3COF', 'CH3CONH2', 'CH3COOH', 'CH3NO2', 'CH3O', 'CH3OCH3', 'CH3ONO', 'CH3S', 'CH3SCH3', 'CH3SiH3', 'COF2', 'CS2', 'ClF3', 'ClNO', 'F2O', 'H2', 'H2CCHCN', 'H2CCHCl', 'H2CCHF', 'H2CCO', 'H2CCl2', 'H2CF2', 'H2COH', 'H3CNH2', 'HCCl3', 'HCF3', 'HCOOCH3', 'HCOOH', 'N2O', 'NCCN', 'NF3', 'NO2', 'O3', 'OCHCHO', 'OCS', 'PF3', 'SH', 'SiCl4', 'SiF4', 'bicyclobutane', 'butadiene', 'cyclobutane', 'cyclobutene', 'isobutane', 'isobutene', 'methylenecyclopropane', 'trans-butane'])\n",
      "dict_keys(['Be', 'BeH', 'C', 'C2H2', 'C2H4', 'C2H6', 'CH', 'CH2_s1A1d', 'CH2_s3B1d', 'CH3', 'CH3Cl', 'CH3OH', 'CH3SH', 'CH4', 'CN', 'CO', 'CO2', 'CS', 'Cl', 'Cl2', 'ClF', 'ClO', 'F', 'F2', 'H', 'H2CO', 'H2O', 'H2O2', 'HCN', 'HCO', 'HCl', 'HF', 'HOCl', 'Li', 'Li2', 'LiF', 'LiH', 'N', 'N2', 'N2H4', 'NH', 'NH2', 'NH3', 'NO', 'Na', 'Na2', 'NaCl', 'O', 'O2', 'OH', 'P', 'P2', 'PH2', 'PH3', 'S', 'S2', 'SH2', 'SO', 'SO2', 'Si', 'Si2', 'Si2H6', 'SiH2_s1A1d', 'SiH2_s3B1d', 'SiH3', 'SiH4', 'SiO', '2-butyne', 'Al', 'AlCl3', 'AlF3', 'B', 'BCl3', 'BF3', 'C2Cl4', 'C2F4', 'C2H3', 'C2H5', 'C2H6CHOH', 'C2H6NH', 'C2H6SO', 'C3H4_C2v', 'C3H4_C3v', 'C3H4_D2d', 'C3H6_Cs', 'C3H6_D3h', 'C3H7', 'C3H7Cl', 'C3H8', 'C3H9C', 'C3H9N', 'C4H4NH', 'C4H4O', 'C4H4S', 'C5H5N', 'C5H8', 'C6H6', 'CCH', 'CCl4', 'CF3CN', 'CF4', 'CH2NHCH2', 'CH2OCH2', 'CH2SCH2', 'CH3CH2Cl', 'CH3CH2NH2', 'CH3CH2O', 'CH3CH2OCH3', 'CH3CH2OH', 'CH3CH2SH', 'CH3CHO', 'CH3CN', 'CH3CO', 'CH3COCH3', 'CH3COCl', 'CH3COF', 'CH3CONH2', 'CH3COOH', 'CH3NO2', 'CH3O', 'CH3OCH3', 'CH3ONO', 'CH3S', 'CH3SCH3', 'CH3SiH3', 'COF2', 'CS2', 'ClF3', 'ClNO', 'F2O', 'H2', 'H2CCHCN', 'H2CCHCl', 'H2CCHF', 'H2CCO', 'H2CCl2', 'H2CF2', 'H2COH', 'H3CNH2', 'HCCl3', 'HCF3', 'HCOOCH3', 'HCOOH', 'N2O', 'NCCN', 'NF3', 'NO2', 'O3', 'OCHCHO', 'OCS', 'PF3', 'SH', 'SiCl4', 'SiF4', 'bicyclobutane', 'butadiene', 'cyclobutane', 'cyclobutene', 'isobutane', 'isobutene', 'methylenecyclopropane', 'trans-butane'])\n",
      "dict_keys(['Be', 'BeH', 'C', 'C2H2', 'C2H4', 'C2H6', 'CH', 'CH2_s1A1d', 'CH2_s3B1d', 'CH3', 'CH3Cl', 'CH3OH', 'CH3SH', 'CH4', 'CN', 'CO', 'CO2', 'CS', 'Cl', 'Cl2', 'ClF', 'ClO', 'F', 'F2', 'H', 'H2CO', 'H2O', 'H2O2', 'HCN', 'HCO', 'HCl', 'HF', 'HOCl', 'Li', 'Li2', 'LiF', 'LiH', 'N', 'N2', 'N2H4', 'NH', 'NH2', 'NH3', 'NO', 'Na', 'Na2', 'NaCl', 'O', 'O2', 'OH', 'P', 'P2', 'PH2', 'PH3', 'S', 'S2', 'SH2', 'SO', 'SO2', 'Si', 'Si2', 'Si2H6', 'SiH2_s1A1d', 'SiH2_s3B1d', 'SiH3', 'SiH4', 'SiO', '2-butyne', 'Al', 'AlCl3', 'AlF3', 'B', 'BCl3', 'BF3', 'C2Cl4', 'C2F4', 'C2H3', 'C2H5', 'C2H6CHOH', 'C2H6NH', 'C2H6SO', 'C3H4_C2v', 'C3H4_C3v', 'C3H4_D2d', 'C3H6_Cs', 'C3H6_D3h', 'C3H7', 'C3H7Cl', 'C3H8', 'C3H9C', 'C3H9N', 'C4H4NH', 'C4H4O', 'C4H4S', 'C5H5N', 'C5H8', 'C6H6', 'CCH', 'CCl4', 'CF3CN', 'CF4', 'CH2NHCH2', 'CH2OCH2', 'CH2SCH2', 'CH3CH2Cl', 'CH3CH2NH2', 'CH3CH2O', 'CH3CH2OCH3', 'CH3CH2OH', 'CH3CH2SH', 'CH3CHO', 'CH3CN', 'CH3CO', 'CH3COCH3', 'CH3COCl', 'CH3COF', 'CH3CONH2', 'CH3COOH', 'CH3NO2', 'CH3O', 'CH3OCH3', 'CH3ONO', 'CH3S', 'CH3SCH3', 'CH3SiH3', 'COF2', 'CS2', 'ClF3', 'ClNO', 'F2O', 'H2', 'H2CCHCN', 'H2CCHCl', 'H2CCHF', 'H2CCO', 'H2CCl2', 'H2CF2', 'H2COH', 'H3CNH2', 'HCCl3', 'HCF3', 'HCOOCH3', 'HCOOH', 'N2O', 'NCCN', 'NF3', 'NO2', 'O3', 'OCHCHO', 'OCS', 'PF3', 'SH', 'SiCl4', 'SiF4', 'bicyclobutane', 'butadiene', 'cyclobutane', 'cyclobutene', 'isobutane', 'isobutene', 'methylenecyclopropane', 'trans-butane'])\n",
      "dict_keys(['Be', 'BeH', 'C', 'C2H2', 'C2H4', 'C2H6', 'CH', 'CH2_s1A1d', 'CH2_s3B1d', 'CH3', 'CH3Cl', 'CH3OH', 'CH3SH', 'CH4', 'CN', 'CO', 'CO2', 'CS', 'Cl', 'Cl2', 'ClF', 'ClO', 'F', 'F2', 'H', 'H2CO', 'H2O', 'H2O2', 'HCN', 'HCO', 'HCl', 'HF', 'HOCl', 'Li', 'Li2', 'LiF', 'LiH', 'N', 'N2', 'N2H4', 'NH', 'NH2', 'NH3', 'NO', 'Na', 'Na2', 'NaCl', 'O', 'O2', 'OH', 'P', 'P2', 'PH2', 'PH3', 'S', 'S2', 'SH2', 'SO', 'SO2', 'Si', 'Si2', 'Si2H6', 'SiH2_s1A1d', 'SiH2_s3B1d', 'SiH3', 'SiH4', 'SiO', '2-butyne', 'Al', 'AlCl3', 'AlF3', 'B', 'BCl3', 'BF3', 'C2Cl4', 'C2F4', 'C2H3', 'C2H5', 'C2H6CHOH', 'C2H6NH', 'C2H6SO', 'C3H4_C2v', 'C3H4_C3v', 'C3H4_D2d', 'C3H6_Cs', 'C3H6_D3h', 'C3H7', 'C3H7Cl', 'C3H8', 'C3H9C', 'C3H9N', 'C4H4NH', 'C4H4O', 'C4H4S', 'C5H5N', 'C5H8', 'C6H6', 'CCH', 'CCl4', 'CF3CN', 'CF4', 'CH2NHCH2', 'CH2OCH2', 'CH2SCH2', 'CH3CH2Cl', 'CH3CH2NH2', 'CH3CH2O', 'CH3CH2OCH3', 'CH3CH2OH', 'CH3CH2SH', 'CH3CHO', 'CH3CN', 'CH3CO', 'CH3COCH3', 'CH3COCl', 'CH3COF', 'CH3CONH2', 'CH3COOH', 'CH3NO2', 'CH3O', 'CH3OCH3', 'CH3ONO', 'CH3S', 'CH3SCH3', 'CH3SiH3', 'COF2', 'CS2', 'ClF3', 'ClNO', 'F2O', 'H2', 'H2CCHCN', 'H2CCHCl', 'H2CCHF', 'H2CCO', 'H2CCl2', 'H2CF2', 'H2COH', 'H3CNH2', 'HCCl3', 'HCF3', 'HCOOCH3', 'HCOOH', 'N2O', 'NCCN', 'NF3', 'NO2', 'O3', 'OCHCHO', 'OCS', 'PF3', 'SH', 'SiCl4', 'SiF4', 'bicyclobutane', 'butadiene', 'cyclobutane', 'cyclobutene', 'isobutane', 'isobutene', 'methylenecyclopropane', 'trans-butane'])\n",
      "dict_keys(['Be', 'BeH', 'C', 'C2H2', 'C2H4', 'C2H6', 'CH', 'CH2_s1A1d', 'CH2_s3B1d', 'CH3', 'CH3Cl', 'CH3OH', 'CH3SH', 'CH4', 'CN', 'CO', 'CO2', 'CS', 'Cl', 'Cl2', 'ClF', 'ClO', 'F', 'F2', 'H', 'H2CO', 'H2O', 'H2O2', 'HCN', 'HCO', 'HCl', 'HF', 'HOCl', 'Li', 'Li2', 'LiF', 'LiH', 'N', 'N2', 'N2H4', 'NH', 'NH2', 'NH3', 'NO', 'Na', 'Na2', 'NaCl', 'O', 'O2', 'OH', 'P', 'P2', 'PH2', 'PH3', 'S', 'S2', 'SH2', 'SO', 'SO2', 'Si', 'Si2', 'Si2H6', 'SiH2_s1A1d', 'SiH2_s3B1d', 'SiH3', 'SiH4', 'SiO', '2-butyne', 'Al', 'AlCl3', 'AlF3', 'B', 'BCl3', 'BF3', 'C2Cl4', 'C2F4', 'C2H3', 'C2H5', 'C2H6CHOH', 'C2H6NH', 'C2H6SO', 'C3H4_C2v', 'C3H4_C3v', 'C3H4_D2d', 'C3H6_Cs', 'C3H6_D3h', 'C3H7', 'C3H7Cl', 'C3H8', 'C3H9C', 'C3H9N', 'C4H4NH', 'C4H4O', 'C4H4S', 'C5H5N', 'C5H8', 'C6H6', 'CCH', 'CCl4', 'CF3CN', 'CF4', 'CH2NHCH2', 'CH2OCH2', 'CH2SCH2', 'CH3CH2Cl', 'CH3CH2NH2', 'CH3CH2O', 'CH3CH2OCH3', 'CH3CH2OH', 'CH3CH2SH', 'CH3CHO', 'CH3CN', 'CH3CO', 'CH3COCH3', 'CH3COCl', 'CH3COF', 'CH3CONH2', 'CH3COOH', 'CH3NO2', 'CH3O', 'CH3OCH3', 'CH3ONO', 'CH3S', 'CH3SCH3', 'CH3SiH3', 'COF2', 'CS2', 'ClF3', 'ClNO', 'F2O', 'H2', 'H2CCHCN', 'H2CCHCl', 'H2CCHF', 'H2CCO', 'H2CCl2', 'H2CF2', 'H2COH', 'H3CNH2', 'HCCl3', 'HCF3', 'HCOOCH3', 'HCOOH', 'N2O', 'NCCN', 'NF3', 'NO2', 'O3', 'OCHCHO', 'OCS', 'PF3', 'SH', 'SiCl4', 'SiF4', 'bicyclobutane', 'butadiene', 'cyclobutane', 'cyclobutene', 'isobutane', 'isobutene', 'methylenecyclopropane', 'trans-butane'])\n",
      "dict_keys(['Be', 'BeH', 'C', 'C2H2', 'C2H4', 'C2H6', 'CH', 'CH2_s1A1d', 'CH2_s3B1d', 'CH3', 'CH3Cl', 'CH3OH', 'CH3SH', 'CH4', 'CN', 'CO', 'CO2', 'CS', 'Cl', 'Cl2', 'ClF', 'ClO', 'F', 'F2', 'H', 'H2CO', 'H2O', 'H2O2', 'HCN', 'HCO', 'HCl', 'HF', 'HOCl', 'Li', 'Li2', 'LiF', 'LiH', 'N', 'N2', 'N2H4', 'NH', 'NH2', 'NH3', 'NO', 'Na', 'Na2', 'NaCl', 'O', 'O2', 'OH', 'P', 'P2', 'PH2', 'PH3', 'S', 'S2', 'SH2', 'SO', 'SO2', 'Si', 'Si2', 'Si2H6', 'SiH2_s1A1d', 'SiH2_s3B1d', 'SiH3', 'SiH4', 'SiO', '2-butyne', 'Al', 'AlCl3', 'AlF3', 'B', 'BCl3', 'BF3', 'C2Cl4', 'C2F4', 'C2H3', 'C2H5', 'C2H6CHOH', 'C2H6NH', 'C2H6SO', 'C3H4_C2v', 'C3H4_C3v', 'C3H4_D2d', 'C3H6_Cs', 'C3H6_D3h', 'C3H7', 'C3H7Cl', 'C3H8', 'C3H9C', 'C3H9N', 'C4H4NH', 'C4H4O', 'C4H4S', 'C5H5N', 'C5H8', 'C6H6', 'CCH', 'CCl4', 'CF3CN', 'CF4', 'CH2NHCH2', 'CH2OCH2', 'CH2SCH2', 'CH3CH2Cl', 'CH3CH2NH2', 'CH3CH2O', 'CH3CH2OCH3', 'CH3CH2OH', 'CH3CH2SH', 'CH3CHO', 'CH3CN', 'CH3CO', 'CH3COCH3', 'CH3COCl', 'CH3COF', 'CH3CONH2', 'CH3COOH', 'CH3NO2', 'CH3O', 'CH3OCH3', 'CH3ONO', 'CH3S', 'CH3SCH3', 'CH3SiH3', 'COF2', 'CS2', 'ClF3', 'ClNO', 'F2O', 'H2', 'H2CCHCN', 'H2CCHCl', 'H2CCHF', 'H2CCO', 'H2CCl2', 'H2CF2', 'H2COH', 'H3CNH2', 'HCCl3', 'HCF3', 'HCOOCH3', 'HCOOH', 'N2O', 'NCCN', 'NF3', 'NO2', 'O3', 'OCHCHO', 'OCS', 'PF3', 'SH', 'SiCl4', 'SiF4', 'bicyclobutane', 'butadiene', 'cyclobutane', 'cyclobutene', 'isobutane', 'isobutene', 'methylenecyclopropane', 'trans-butane'])\n",
      "dict_keys(['Be', 'BeH', 'C', 'C2H2', 'C2H4', 'C2H6', 'CH', 'CH2_s1A1d', 'CH2_s3B1d', 'CH3', 'CH3Cl', 'CH3OH', 'CH3SH', 'CH4', 'CN', 'CO', 'CO2', 'CS', 'Cl', 'Cl2', 'ClF', 'ClO', 'F', 'F2', 'H', 'H2CO', 'H2O', 'H2O2', 'HCN', 'HCO', 'HCl', 'HF', 'HOCl', 'Li', 'Li2', 'LiF', 'LiH', 'N', 'N2', 'N2H4', 'NH', 'NH2', 'NH3', 'NO', 'Na', 'Na2', 'NaCl', 'O', 'O2', 'OH', 'P', 'P2', 'PH2', 'PH3', 'S', 'S2', 'SH2', 'SO', 'SO2', 'Si', 'Si2', 'Si2H6', 'SiH2_s1A1d', 'SiH2_s3B1d', 'SiH3', 'SiH4', 'SiO', '2-butyne', 'Al', 'AlCl3', 'AlF3', 'B', 'BCl3', 'BF3', 'C2Cl4', 'C2F4', 'C2H3', 'C2H5', 'C2H6CHOH', 'C2H6NH', 'C2H6SO', 'C3H4_C2v', 'C3H4_C3v', 'C3H4_D2d', 'C3H6_Cs', 'C3H6_D3h', 'C3H7', 'C3H7Cl', 'C3H8', 'C3H9C', 'C3H9N', 'C4H4NH', 'C4H4O', 'C4H4S', 'C5H5N', 'C5H8', 'C6H6', 'CCH', 'CCl4', 'CF3CN', 'CF4', 'CH2NHCH2', 'CH2OCH2', 'CH2SCH2', 'CH3CH2Cl', 'CH3CH2NH2', 'CH3CH2O', 'CH3CH2OCH3', 'CH3CH2OH', 'CH3CH2SH', 'CH3CHO', 'CH3CN', 'CH3CO', 'CH3COCH3', 'CH3COCl', 'CH3COF', 'CH3CONH2', 'CH3COOH', 'CH3NO2', 'CH3O', 'CH3OCH3', 'CH3ONO', 'CH3S', 'CH3SCH3', 'CH3SiH3', 'COF2', 'CS2', 'ClF3', 'ClNO', 'F2O', 'H2', 'H2CCHCN', 'H2CCHCl', 'H2CCHF', 'H2CCO', 'H2CCl2', 'H2CF2', 'H2COH', 'H3CNH2', 'HCCl3', 'HCF3', 'HCOOCH3', 'HCOOH', 'N2O', 'NCCN', 'NF3', 'NO2', 'O3', 'OCHCHO', 'OCS', 'PF3', 'SH', 'SiCl4', 'SiF4', 'bicyclobutane', 'butadiene', 'cyclobutane', 'cyclobutene', 'isobutane', 'isobutene', 'methylenecyclopropane', 'trans-butane'])\n",
      "dict_keys(['Be', 'BeH', 'C', 'C2H2', 'C2H4', 'C2H6', 'CH', 'CH2_s1A1d', 'CH2_s3B1d', 'CH3', 'CH3Cl', 'CH3OH', 'CH3SH', 'CH4', 'CN', 'CO', 'CO2', 'CS', 'Cl', 'Cl2', 'ClF', 'ClO', 'F', 'F2', 'H', 'H2CO', 'H2O', 'H2O2', 'HCN', 'HCO', 'HCl', 'HF', 'HOCl', 'Li', 'Li2', 'LiF', 'LiH', 'N', 'N2', 'N2H4', 'NH', 'NH2', 'NH3', 'NO', 'Na', 'Na2', 'NaCl', 'O', 'O2', 'OH', 'P', 'P2', 'PH2', 'PH3', 'S', 'S2', 'SH2', 'SO', 'SO2', 'Si', 'Si2', 'Si2H6', 'SiH2_s1A1d', 'SiH2_s3B1d', 'SiH3', 'SiH4', 'SiO', '2-butyne', 'Al', 'AlCl3', 'AlF3', 'B', 'BCl3', 'BF3', 'C2Cl4', 'C2F4', 'C2H3', 'C2H5', 'C2H6CHOH', 'C2H6NH', 'C2H6SO', 'C3H4_C2v', 'C3H4_C3v', 'C3H4_D2d', 'C3H6_Cs', 'C3H6_D3h', 'C3H7', 'C3H7Cl', 'C3H8', 'C3H9C', 'C3H9N', 'C4H4NH', 'C4H4O', 'C4H4S', 'C5H5N', 'C5H8', 'C6H6', 'CCH', 'CCl4', 'CF3CN', 'CF4', 'CH2NHCH2', 'CH2OCH2', 'CH2SCH2', 'CH3CH2Cl', 'CH3CH2NH2', 'CH3CH2O', 'CH3CH2OCH3', 'CH3CH2OH', 'CH3CH2SH', 'CH3CHO', 'CH3CN', 'CH3CO', 'CH3COCH3', 'CH3COCl', 'CH3COF', 'CH3CONH2', 'CH3COOH', 'CH3NO2', 'CH3O', 'CH3OCH3', 'CH3ONO', 'CH3S', 'CH3SCH3', 'CH3SiH3', 'COF2', 'CS2', 'ClF3', 'ClNO', 'F2O', 'H2', 'H2CCHCN', 'H2CCHCl', 'H2CCHF', 'H2CCO', 'H2CCl2', 'H2CF2', 'H2COH', 'H3CNH2', 'HCCl3', 'HCF3', 'HCOOCH3', 'HCOOH', 'N2O', 'NCCN', 'NF3', 'NO2', 'O3', 'OCHCHO', 'OCS', 'PF3', 'SH', 'SiCl4', 'SiF4', 'bicyclobutane', 'butadiene', 'cyclobutane', 'cyclobutene', 'isobutane', 'isobutene', 'methylenecyclopropane', 'trans-butane'])\n",
      "dict_keys(['Be', 'BeH', 'C', 'C2H2', 'C2H4', 'C2H6', 'CH', 'CH2_s1A1d', 'CH2_s3B1d', 'CH3', 'CH3Cl', 'CH3OH', 'CH3SH', 'CH4', 'CN', 'CO', 'CO2', 'CS', 'Cl', 'Cl2', 'ClF', 'ClO', 'F', 'F2', 'H', 'H2CO', 'H2O', 'H2O2', 'HCN', 'HCO', 'HCl', 'HF', 'HOCl', 'Li', 'Li2', 'LiF', 'LiH', 'N', 'N2', 'N2H4', 'NH', 'NH2', 'NH3', 'NO', 'Na', 'Na2', 'NaCl', 'O', 'O2', 'OH', 'P', 'P2', 'PH2', 'PH3', 'S', 'S2', 'SH2', 'SO', 'SO2', 'Si', 'Si2', 'Si2H6', 'SiH2_s1A1d', 'SiH2_s3B1d', 'SiH3', 'SiH4', 'SiO', '2-butyne', 'Al', 'AlCl3', 'AlF3', 'B', 'BCl3', 'BF3', 'C2Cl4', 'C2F4', 'C2H3', 'C2H5', 'C2H6CHOH', 'C2H6NH', 'C2H6SO', 'C3H4_C2v', 'C3H4_C3v', 'C3H4_D2d', 'C3H6_Cs', 'C3H6_D3h', 'C3H7', 'C3H7Cl', 'C3H8', 'C3H9C', 'C3H9N', 'C4H4NH', 'C4H4O', 'C4H4S', 'C5H5N', 'C5H8', 'C6H6', 'CCH', 'CCl4', 'CF3CN', 'CF4', 'CH2NHCH2', 'CH2OCH2', 'CH2SCH2', 'CH3CH2Cl', 'CH3CH2NH2', 'CH3CH2O', 'CH3CH2OCH3', 'CH3CH2OH', 'CH3CH2SH', 'CH3CHO', 'CH3CN', 'CH3CO', 'CH3COCH3', 'CH3COCl', 'CH3COF', 'CH3CONH2', 'CH3COOH', 'CH3NO2', 'CH3O', 'CH3OCH3', 'CH3ONO', 'CH3S', 'CH3SCH3', 'CH3SiH3', 'COF2', 'CS2', 'ClF3', 'ClNO', 'F2O', 'H2', 'H2CCHCN', 'H2CCHCl', 'H2CCHF', 'H2CCO', 'H2CCl2', 'H2CF2', 'H2COH', 'H3CNH2', 'HCCl3', 'HCF3', 'HCOOCH3', 'HCOOH', 'N2O', 'NCCN', 'NF3', 'NO2', 'O3', 'OCHCHO', 'OCS', 'PF3', 'SH', 'SiCl4', 'SiF4', 'bicyclobutane', 'butadiene', 'cyclobutane', 'cyclobutene', 'isobutane', 'isobutene', 'methylenecyclopropane', 'trans-butane'])\n",
      "dict_keys(['Be', 'BeH', 'C', 'C2H2', 'C2H4', 'C2H6', 'CH', 'CH2_s1A1d', 'CH2_s3B1d', 'CH3', 'CH3Cl', 'CH3OH', 'CH3SH', 'CH4', 'CN', 'CO', 'CO2', 'CS', 'Cl', 'Cl2', 'ClF', 'ClO', 'F', 'F2', 'H', 'H2CO', 'H2O', 'H2O2', 'HCN', 'HCO', 'HCl', 'HF', 'HOCl', 'Li', 'Li2', 'LiF', 'LiH', 'N', 'N2', 'N2H4', 'NH', 'NH2', 'NH3', 'NO', 'Na', 'Na2', 'NaCl', 'O', 'O2', 'OH', 'P', 'P2', 'PH2', 'PH3', 'S', 'S2', 'SH2', 'SO', 'SO2', 'Si', 'Si2', 'Si2H6', 'SiH2_s1A1d', 'SiH2_s3B1d', 'SiH3', 'SiH4', 'SiO', '2-butyne', 'Al', 'AlCl3', 'AlF3', 'B', 'BCl3', 'BF3', 'C2Cl4', 'C2F4', 'C2H3', 'C2H5', 'C2H6CHOH', 'C2H6NH', 'C2H6SO', 'C3H4_C2v', 'C3H4_C3v', 'C3H4_D2d', 'C3H6_Cs', 'C3H6_D3h', 'C3H7', 'C3H7Cl', 'C3H8', 'C3H9C', 'C3H9N', 'C4H4NH', 'C4H4O', 'C4H4S', 'C5H5N', 'C5H8', 'C6H6', 'CCH', 'CCl4', 'CF3CN', 'CF4', 'CH2NHCH2', 'CH2OCH2', 'CH2SCH2', 'CH3CH2Cl', 'CH3CH2NH2', 'CH3CH2O', 'CH3CH2OCH3', 'CH3CH2OH', 'CH3CH2SH', 'CH3CHO', 'CH3CN', 'CH3CO', 'CH3COCH3', 'CH3COCl', 'CH3COF', 'CH3CONH2', 'CH3COOH', 'CH3NO2', 'CH3O', 'CH3OCH3', 'CH3ONO', 'CH3S', 'CH3SCH3', 'CH3SiH3', 'COF2', 'CS2', 'ClF3', 'ClNO', 'F2O', 'H2', 'H2CCHCN', 'H2CCHCl', 'H2CCHF', 'H2CCO', 'H2CCl2', 'H2CF2', 'H2COH', 'H3CNH2', 'HCCl3', 'HCF3', 'HCOOCH3', 'HCOOH', 'N2O', 'NCCN', 'NF3', 'NO2', 'O3', 'OCHCHO', 'OCS', 'PF3', 'SH', 'SiCl4', 'SiF4', 'bicyclobutane', 'butadiene', 'cyclobutane', 'cyclobutene', 'isobutane', 'isobutene', 'methylenecyclopropane', 'trans-butane'])\n",
      "dict_keys(['Be', 'BeH', 'C', 'C2H2', 'C2H4', 'C2H6', 'CH', 'CH2_s1A1d', 'CH2_s3B1d', 'CH3', 'CH3Cl', 'CH3OH', 'CH3SH', 'CH4', 'CN', 'CO', 'CO2', 'CS', 'Cl', 'Cl2', 'ClF', 'ClO', 'F', 'F2', 'H', 'H2CO', 'H2O', 'H2O2', 'HCN', 'HCO', 'HCl', 'HF', 'HOCl', 'Li', 'Li2', 'LiF', 'LiH', 'N', 'N2', 'N2H4', 'NH', 'NH2', 'NH3', 'NO', 'Na', 'Na2', 'NaCl', 'O', 'O2', 'OH', 'P', 'P2', 'PH2', 'PH3', 'S', 'S2', 'SH2', 'SO', 'SO2', 'Si', 'Si2', 'Si2H6', 'SiH2_s1A1d', 'SiH2_s3B1d', 'SiH3', 'SiH4', 'SiO', '2-butyne', 'Al', 'AlCl3', 'AlF3', 'B', 'BCl3', 'BF3', 'C2Cl4', 'C2F4', 'C2H3', 'C2H5', 'C2H6CHOH', 'C2H6NH', 'C2H6SO', 'C3H4_C2v', 'C3H4_C3v', 'C3H4_D2d', 'C3H6_Cs', 'C3H6_D3h', 'C3H7', 'C3H7Cl', 'C3H8', 'C3H9C', 'C3H9N', 'C4H4NH', 'C4H4O', 'C4H4S', 'C5H5N', 'C5H8', 'C6H6', 'CCH', 'CCl4', 'CF3CN', 'CF4', 'CH2NHCH2', 'CH2OCH2', 'CH2SCH2', 'CH3CH2Cl', 'CH3CH2NH2', 'CH3CH2O', 'CH3CH2OCH3', 'CH3CH2OH', 'CH3CH2SH', 'CH3CHO', 'CH3CN', 'CH3CO', 'CH3COCH3', 'CH3COCl', 'CH3COF', 'CH3CONH2', 'CH3COOH', 'CH3NO2', 'CH3O', 'CH3OCH3', 'CH3ONO', 'CH3S', 'CH3SCH3', 'CH3SiH3', 'COF2', 'CS2', 'ClF3', 'ClNO', 'F2O', 'H2', 'H2CCHCN', 'H2CCHCl', 'H2CCHF', 'H2CCO', 'H2CCl2', 'H2CF2', 'H2COH', 'H3CNH2', 'HCCl3', 'HCF3', 'HCOOCH3', 'HCOOH', 'N2O', 'NCCN', 'NF3', 'NO2', 'O3', 'OCHCHO', 'OCS', 'PF3', 'SH', 'SiCl4', 'SiF4', 'bicyclobutane', 'butadiene', 'cyclobutane', 'cyclobutene', 'isobutane', 'isobutene', 'methylenecyclopropane', 'trans-butane'])\n",
      "dict_keys(['Be', 'BeH', 'C', 'C2H2', 'C2H4', 'C2H6', 'CH', 'CH2_s1A1d', 'CH2_s3B1d', 'CH3', 'CH3Cl', 'CH3OH', 'CH3SH', 'CH4', 'CN', 'CO', 'CO2', 'CS', 'Cl', 'Cl2', 'ClF', 'ClO', 'F', 'F2', 'H', 'H2CO', 'H2O', 'H2O2', 'HCN', 'HCO', 'HCl', 'HF', 'HOCl', 'Li', 'Li2', 'LiF', 'LiH', 'N', 'N2', 'N2H4', 'NH', 'NH2', 'NH3', 'NO', 'Na', 'Na2', 'NaCl', 'O', 'O2', 'OH', 'P', 'P2', 'PH2', 'PH3', 'S', 'S2', 'SH2', 'SO', 'SO2', 'Si', 'Si2', 'Si2H6', 'SiH2_s1A1d', 'SiH2_s3B1d', 'SiH3', 'SiH4', 'SiO', '2-butyne', 'Al', 'AlCl3', 'AlF3', 'B', 'BCl3', 'BF3', 'C2Cl4', 'C2F4', 'C2H3', 'C2H5', 'C2H6CHOH', 'C2H6NH', 'C2H6SO', 'C3H4_C2v', 'C3H4_C3v', 'C3H4_D2d', 'C3H6_Cs', 'C3H6_D3h', 'C3H7', 'C3H7Cl', 'C3H8', 'C3H9C', 'C3H9N', 'C4H4NH', 'C4H4O', 'C4H4S', 'C5H5N', 'C5H8', 'C6H6', 'CCH', 'CCl4', 'CF3CN', 'CF4', 'CH2NHCH2', 'CH2OCH2', 'CH2SCH2', 'CH3CH2Cl', 'CH3CH2NH2', 'CH3CH2O', 'CH3CH2OCH3', 'CH3CH2OH', 'CH3CH2SH', 'CH3CHO', 'CH3CN', 'CH3CO', 'CH3COCH3', 'CH3COCl', 'CH3COF', 'CH3CONH2', 'CH3COOH', 'CH3NO2', 'CH3O', 'CH3OCH3', 'CH3ONO', 'CH3S', 'CH3SCH3', 'CH3SiH3', 'COF2', 'CS2', 'ClF3', 'ClNO', 'F2O', 'H2', 'H2CCHCN', 'H2CCHCl', 'H2CCHF', 'H2CCO', 'H2CCl2', 'H2CF2', 'H2COH', 'H3CNH2', 'HCCl3', 'HCF3', 'HCOOCH3', 'HCOOH', 'N2O', 'NCCN', 'NF3', 'NO2', 'O3', 'OCHCHO', 'OCS', 'PF3', 'SH', 'SiCl4', 'SiF4', 'bicyclobutane', 'butadiene', 'cyclobutane', 'cyclobutene', 'isobutane', 'isobutene', 'methylenecyclopropane', 'trans-butane'])\n",
      "dict_keys(['Be', 'BeH', 'C', 'C2H2', 'C2H4', 'C2H6', 'CH', 'CH2_s1A1d', 'CH2_s3B1d', 'CH3', 'CH3Cl', 'CH3OH', 'CH3SH', 'CH4', 'CN', 'CO', 'CO2', 'CS', 'Cl', 'Cl2', 'ClF', 'ClO', 'F', 'F2', 'H', 'H2CO', 'H2O', 'H2O2', 'HCN', 'HCO', 'HCl', 'HF', 'HOCl', 'Li', 'Li2', 'LiF', 'LiH', 'N', 'N2', 'N2H4', 'NH', 'NH2', 'NH3', 'NO', 'Na', 'Na2', 'NaCl', 'O', 'O2', 'OH', 'P', 'P2', 'PH2', 'PH3', 'S', 'S2', 'SH2', 'SO', 'SO2', 'Si', 'Si2', 'Si2H6', 'SiH2_s1A1d', 'SiH2_s3B1d', 'SiH3', 'SiH4', 'SiO', '2-butyne', 'Al', 'AlCl3', 'AlF3', 'B', 'BCl3', 'BF3', 'C2Cl4', 'C2F4', 'C2H3', 'C2H5', 'C2H6CHOH', 'C2H6NH', 'C2H6SO', 'C3H4_C2v', 'C3H4_C3v', 'C3H4_D2d', 'C3H6_Cs', 'C3H6_D3h', 'C3H7', 'C3H7Cl', 'C3H8', 'C3H9C', 'C3H9N', 'C4H4NH', 'C4H4O', 'C4H4S', 'C5H5N', 'C5H8', 'C6H6', 'CCH', 'CCl4', 'CF3CN', 'CF4', 'CH2NHCH2', 'CH2OCH2', 'CH2SCH2', 'CH3CH2Cl', 'CH3CH2NH2', 'CH3CH2O', 'CH3CH2OCH3', 'CH3CH2OH', 'CH3CH2SH', 'CH3CHO', 'CH3CN', 'CH3CO', 'CH3COCH3', 'CH3COCl', 'CH3COF', 'CH3CONH2', 'CH3COOH', 'CH3NO2', 'CH3O', 'CH3OCH3', 'CH3ONO', 'CH3S', 'CH3SCH3', 'CH3SiH3', 'COF2', 'CS2', 'ClF3', 'ClNO', 'F2O', 'H2', 'H2CCHCN', 'H2CCHCl', 'H2CCHF', 'H2CCO', 'H2CCl2', 'H2CF2', 'H2COH', 'H3CNH2', 'HCCl3', 'HCF3', 'HCOOCH3', 'HCOOH', 'N2O', 'NCCN', 'NF3', 'NO2', 'O3', 'OCHCHO', 'OCS', 'PF3', 'SH', 'SiCl4', 'SiF4', 'bicyclobutane', 'butadiene', 'cyclobutane', 'cyclobutene', 'isobutane', 'isobutene', 'methylenecyclopropane', 'trans-butane'])\n",
      "dict_keys(['Be', 'BeH', 'C', 'C2H2', 'C2H4', 'C2H6', 'CH', 'CH2_s1A1d', 'CH2_s3B1d', 'CH3', 'CH3Cl', 'CH3OH', 'CH3SH', 'CH4', 'CN', 'CO', 'CO2', 'CS', 'Cl', 'Cl2', 'ClF', 'ClO', 'F', 'F2', 'H', 'H2CO', 'H2O', 'H2O2', 'HCN', 'HCO', 'HCl', 'HF', 'HOCl', 'Li', 'Li2', 'LiF', 'LiH', 'N', 'N2', 'N2H4', 'NH', 'NH2', 'NH3', 'NO', 'Na', 'Na2', 'NaCl', 'O', 'O2', 'OH', 'P', 'P2', 'PH2', 'PH3', 'S', 'S2', 'SH2', 'SO', 'SO2', 'Si', 'Si2', 'Si2H6', 'SiH2_s1A1d', 'SiH2_s3B1d', 'SiH3', 'SiH4', 'SiO', '2-butyne', 'Al', 'AlCl3', 'AlF3', 'B', 'BCl3', 'BF3', 'C2Cl4', 'C2F4', 'C2H3', 'C2H5', 'C2H6CHOH', 'C2H6NH', 'C2H6SO', 'C3H4_C2v', 'C3H4_C3v', 'C3H4_D2d', 'C3H6_Cs', 'C3H6_D3h', 'C3H7', 'C3H7Cl', 'C3H8', 'C3H9C', 'C3H9N', 'C4H4NH', 'C4H4O', 'C4H4S', 'C5H5N', 'C5H8', 'C6H6', 'CCH', 'CCl4', 'CF3CN', 'CF4', 'CH2NHCH2', 'CH2OCH2', 'CH2SCH2', 'CH3CH2Cl', 'CH3CH2NH2', 'CH3CH2O', 'CH3CH2OCH3', 'CH3CH2OH', 'CH3CH2SH', 'CH3CHO', 'CH3CN', 'CH3CO', 'CH3COCH3', 'CH3COCl', 'CH3COF', 'CH3CONH2', 'CH3COOH', 'CH3NO2', 'CH3O', 'CH3OCH3', 'CH3ONO', 'CH3S', 'CH3SCH3', 'CH3SiH3', 'COF2', 'CS2', 'ClF3', 'ClNO', 'F2O', 'H2', 'H2CCHCN', 'H2CCHCl', 'H2CCHF', 'H2CCO', 'H2CCl2', 'H2CF2', 'H2COH', 'H3CNH2', 'HCCl3', 'HCF3', 'HCOOCH3', 'HCOOH', 'N2O', 'NCCN', 'NF3', 'NO2', 'O3', 'OCHCHO', 'OCS', 'PF3', 'SH', 'SiCl4', 'SiF4', 'bicyclobutane', 'butadiene', 'cyclobutane', 'cyclobutene', 'isobutane', 'isobutene', 'methylenecyclopropane', 'trans-butane'])\n",
      "dict_keys(['Be', 'BeH', 'C', 'C2H2', 'C2H4', 'C2H6', 'CH', 'CH2_s1A1d', 'CH2_s3B1d', 'CH3', 'CH3Cl', 'CH3OH', 'CH3SH', 'CH4', 'CN', 'CO', 'CO2', 'CS', 'Cl', 'Cl2', 'ClF', 'ClO', 'F', 'F2', 'H', 'H2CO', 'H2O', 'H2O2', 'HCN', 'HCO', 'HCl', 'HF', 'HOCl', 'Li', 'Li2', 'LiF', 'LiH', 'N', 'N2', 'N2H4', 'NH', 'NH2', 'NH3', 'NO', 'Na', 'Na2', 'NaCl', 'O', 'O2', 'OH', 'P', 'P2', 'PH2', 'PH3', 'S', 'S2', 'SH2', 'SO', 'SO2', 'Si', 'Si2', 'Si2H6', 'SiH2_s1A1d', 'SiH2_s3B1d', 'SiH3', 'SiH4', 'SiO', '2-butyne', 'Al', 'AlCl3', 'AlF3', 'B', 'BCl3', 'BF3', 'C2Cl4', 'C2F4', 'C2H3', 'C2H5', 'C2H6CHOH', 'C2H6NH', 'C2H6SO', 'C3H4_C2v', 'C3H4_C3v', 'C3H4_D2d', 'C3H6_Cs', 'C3H6_D3h', 'C3H7', 'C3H7Cl', 'C3H8', 'C3H9C', 'C3H9N', 'C4H4NH', 'C4H4O', 'C4H4S', 'C5H5N', 'C5H8', 'C6H6', 'CCH', 'CCl4', 'CF3CN', 'CF4', 'CH2NHCH2', 'CH2OCH2', 'CH2SCH2', 'CH3CH2Cl', 'CH3CH2NH2', 'CH3CH2O', 'CH3CH2OCH3', 'CH3CH2OH', 'CH3CH2SH', 'CH3CHO', 'CH3CN', 'CH3CO', 'CH3COCH3', 'CH3COCl', 'CH3COF', 'CH3CONH2', 'CH3COOH', 'CH3NO2', 'CH3O', 'CH3OCH3', 'CH3ONO', 'CH3S', 'CH3SCH3', 'CH3SiH3', 'COF2', 'CS2', 'ClF3', 'ClNO', 'F2O', 'H2', 'H2CCHCN', 'H2CCHCl', 'H2CCHF', 'H2CCO', 'H2CCl2', 'H2CF2', 'H2COH', 'H3CNH2', 'HCCl3', 'HCF3', 'HCOOCH3', 'HCOOH', 'N2O', 'NCCN', 'NF3', 'NO2', 'O3', 'OCHCHO', 'OCS', 'PF3', 'SH', 'SiCl4', 'SiF4', 'bicyclobutane', 'butadiene', 'cyclobutane', 'cyclobutene', 'isobutane', 'isobutene', 'methylenecyclopropane', 'trans-butane'])\n",
      "dict_keys(['Be', 'BeH', 'C', 'C2H2', 'C2H4', 'C2H6', 'CH', 'CH2_s1A1d', 'CH2_s3B1d', 'CH3', 'CH3Cl', 'CH3OH', 'CH3SH', 'CH4', 'CN', 'CO', 'CO2', 'CS', 'Cl', 'Cl2', 'ClF', 'ClO', 'F', 'F2', 'H', 'H2CO', 'H2O', 'H2O2', 'HCN', 'HCO', 'HCl', 'HF', 'HOCl', 'Li', 'Li2', 'LiF', 'LiH', 'N', 'N2', 'N2H4', 'NH', 'NH2', 'NH3', 'NO', 'Na', 'Na2', 'NaCl', 'O', 'O2', 'OH', 'P', 'P2', 'PH2', 'PH3', 'S', 'S2', 'SH2', 'SO', 'SO2', 'Si', 'Si2', 'Si2H6', 'SiH2_s1A1d', 'SiH2_s3B1d', 'SiH3', 'SiH4', 'SiO', '2-butyne', 'Al', 'AlCl3', 'AlF3', 'B', 'BCl3', 'BF3', 'C2Cl4', 'C2F4', 'C2H3', 'C2H5', 'C2H6CHOH', 'C2H6NH', 'C2H6SO', 'C3H4_C2v', 'C3H4_C3v', 'C3H4_D2d', 'C3H6_Cs', 'C3H6_D3h', 'C3H7', 'C3H7Cl', 'C3H8', 'C3H9C', 'C3H9N', 'C4H4NH', 'C4H4O', 'C4H4S', 'C5H5N', 'C5H8', 'C6H6', 'CCH', 'CCl4', 'CF3CN', 'CF4', 'CH2NHCH2', 'CH2OCH2', 'CH2SCH2', 'CH3CH2Cl', 'CH3CH2NH2', 'CH3CH2O', 'CH3CH2OCH3', 'CH3CH2OH', 'CH3CH2SH', 'CH3CHO', 'CH3CN', 'CH3CO', 'CH3COCH3', 'CH3COCl', 'CH3COF', 'CH3CONH2', 'CH3COOH', 'CH3NO2', 'CH3O', 'CH3OCH3', 'CH3ONO', 'CH3S', 'CH3SCH3', 'CH3SiH3', 'COF2', 'CS2', 'ClF3', 'ClNO', 'F2O', 'H2', 'H2CCHCN', 'H2CCHCl', 'H2CCHF', 'H2CCO', 'H2CCl2', 'H2CF2', 'H2COH', 'H3CNH2', 'HCCl3', 'HCF3', 'HCOOCH3', 'HCOOH', 'N2O', 'NCCN', 'NF3', 'NO2', 'O3', 'OCHCHO', 'OCS', 'PF3', 'SH', 'SiCl4', 'SiF4', 'bicyclobutane', 'butadiene', 'cyclobutane', 'cyclobutene', 'isobutane', 'isobutene', 'methylenecyclopropane', 'trans-butane'])\n",
      "dict_keys(['Be', 'BeH', 'C', 'C2H2', 'C2H4', 'C2H6', 'CH', 'CH2_s1A1d', 'CH2_s3B1d', 'CH3', 'CH3Cl', 'CH3OH', 'CH3SH', 'CH4', 'CN', 'CO', 'CO2', 'CS', 'Cl', 'Cl2', 'ClF', 'ClO', 'F', 'F2', 'H', 'H2CO', 'H2O', 'H2O2', 'HCN', 'HCO', 'HCl', 'HF', 'HOCl', 'Li', 'Li2', 'LiF', 'LiH', 'N', 'N2', 'N2H4', 'NH', 'NH2', 'NH3', 'NO', 'Na', 'Na2', 'NaCl', 'O', 'O2', 'OH', 'P', 'P2', 'PH2', 'PH3', 'S', 'S2', 'SH2', 'SO', 'SO2', 'Si', 'Si2', 'Si2H6', 'SiH2_s1A1d', 'SiH2_s3B1d', 'SiH3', 'SiH4', 'SiO', '2-butyne', 'Al', 'AlCl3', 'AlF3', 'B', 'BCl3', 'BF3', 'C2Cl4', 'C2F4', 'C2H3', 'C2H5', 'C2H6CHOH', 'C2H6NH', 'C2H6SO', 'C3H4_C2v', 'C3H4_C3v', 'C3H4_D2d', 'C3H6_Cs', 'C3H6_D3h', 'C3H7', 'C3H7Cl', 'C3H8', 'C3H9C', 'C3H9N', 'C4H4NH', 'C4H4O', 'C4H4S', 'C5H5N', 'C5H8', 'C6H6', 'CCH', 'CCl4', 'CF3CN', 'CF4', 'CH2NHCH2', 'CH2OCH2', 'CH2SCH2', 'CH3CH2Cl', 'CH3CH2NH2', 'CH3CH2O', 'CH3CH2OCH3', 'CH3CH2OH', 'CH3CH2SH', 'CH3CHO', 'CH3CN', 'CH3CO', 'CH3COCH3', 'CH3COCl', 'CH3COF', 'CH3CONH2', 'CH3COOH', 'CH3NO2', 'CH3O', 'CH3OCH3', 'CH3ONO', 'CH3S', 'CH3SCH3', 'CH3SiH3', 'COF2', 'CS2', 'ClF3', 'ClNO', 'F2O', 'H2', 'H2CCHCN', 'H2CCHCl', 'H2CCHF', 'H2CCO', 'H2CCl2', 'H2CF2', 'H2COH', 'H3CNH2', 'HCCl3', 'HCF3', 'HCOOCH3', 'HCOOH', 'N2O', 'NCCN', 'NF3', 'NO2', 'O3', 'OCHCHO', 'OCS', 'PF3', 'SH', 'SiCl4', 'SiF4', 'bicyclobutane', 'butadiene', 'cyclobutane', 'cyclobutene', 'isobutane', 'isobutene', 'methylenecyclopropane', 'trans-butane'])\n",
      "dict_keys(['Be', 'BeH', 'C', 'C2H2', 'C2H4', 'C2H6', 'CH', 'CH2_s1A1d', 'CH2_s3B1d', 'CH3', 'CH3Cl', 'CH3OH', 'CH3SH', 'CH4', 'CN', 'CO', 'CO2', 'CS', 'Cl', 'Cl2', 'ClF', 'ClO', 'F', 'F2', 'H', 'H2CO', 'H2O', 'H2O2', 'HCN', 'HCO', 'HCl', 'HF', 'HOCl', 'Li', 'Li2', 'LiF', 'LiH', 'N', 'N2', 'N2H4', 'NH', 'NH2', 'NH3', 'NO', 'Na', 'Na2', 'NaCl', 'O', 'O2', 'OH', 'P', 'P2', 'PH2', 'PH3', 'S', 'S2', 'SH2', 'SO', 'SO2', 'Si', 'Si2', 'Si2H6', 'SiH2_s1A1d', 'SiH2_s3B1d', 'SiH3', 'SiH4', 'SiO', '2-butyne', 'Al', 'AlCl3', 'AlF3', 'B', 'BCl3', 'BF3', 'C2Cl4', 'C2F4', 'C2H3', 'C2H5', 'C2H6CHOH', 'C2H6NH', 'C2H6SO', 'C3H4_C2v', 'C3H4_C3v', 'C3H4_D2d', 'C3H6_Cs', 'C3H6_D3h', 'C3H7', 'C3H7Cl', 'C3H8', 'C3H9C', 'C3H9N', 'C4H4NH', 'C4H4O', 'C4H4S', 'C5H5N', 'C5H8', 'C6H6', 'CCH', 'CCl4', 'CF3CN', 'CF4', 'CH2NHCH2', 'CH2OCH2', 'CH2SCH2', 'CH3CH2Cl', 'CH3CH2NH2', 'CH3CH2O', 'CH3CH2OCH3', 'CH3CH2OH', 'CH3CH2SH', 'CH3CHO', 'CH3CN', 'CH3CO', 'CH3COCH3', 'CH3COCl', 'CH3COF', 'CH3CONH2', 'CH3COOH', 'CH3NO2', 'CH3O', 'CH3OCH3', 'CH3ONO', 'CH3S', 'CH3SCH3', 'CH3SiH3', 'COF2', 'CS2', 'ClF3', 'ClNO', 'F2O', 'H2', 'H2CCHCN', 'H2CCHCl', 'H2CCHF', 'H2CCO', 'H2CCl2', 'H2CF2', 'H2COH', 'H3CNH2', 'HCCl3', 'HCF3', 'HCOOCH3', 'HCOOH', 'N2O', 'NCCN', 'NF3', 'NO2', 'O3', 'OCHCHO', 'OCS', 'PF3', 'SH', 'SiCl4', 'SiF4', 'bicyclobutane', 'butadiene', 'cyclobutane', 'cyclobutene', 'isobutane', 'isobutene', 'methylenecyclopropane', 'trans-butane'])\n",
      "dict_keys(['Be', 'BeH', 'C', 'C2H2', 'C2H4', 'C2H6', 'CH', 'CH2_s1A1d', 'CH2_s3B1d', 'CH3', 'CH3Cl', 'CH3OH', 'CH3SH', 'CH4', 'CN', 'CO', 'CO2', 'CS', 'Cl', 'Cl2', 'ClF', 'ClO', 'F', 'F2', 'H', 'H2CO', 'H2O', 'H2O2', 'HCN', 'HCO', 'HCl', 'HF', 'HOCl', 'Li', 'Li2', 'LiF', 'LiH', 'N', 'N2', 'N2H4', 'NH', 'NH2', 'NH3', 'NO', 'Na', 'Na2', 'NaCl', 'O', 'O2', 'OH', 'P', 'P2', 'PH2', 'PH3', 'S', 'S2', 'SH2', 'SO', 'SO2', 'Si', 'Si2', 'Si2H6', 'SiH2_s1A1d', 'SiH2_s3B1d', 'SiH3', 'SiH4', 'SiO', '2-butyne', 'Al', 'AlCl3', 'AlF3', 'B', 'BCl3', 'BF3', 'C2Cl4', 'C2F4', 'C2H3', 'C2H5', 'C2H6CHOH', 'C2H6NH', 'C2H6SO', 'C3H4_C2v', 'C3H4_C3v', 'C3H4_D2d', 'C3H6_Cs', 'C3H6_D3h', 'C3H7', 'C3H7Cl', 'C3H8', 'C3H9C', 'C3H9N', 'C4H4NH', 'C4H4O', 'C4H4S', 'C5H5N', 'C5H8', 'C6H6', 'CCH', 'CCl4', 'CF3CN', 'CF4', 'CH2NHCH2', 'CH2OCH2', 'CH2SCH2', 'CH3CH2Cl', 'CH3CH2NH2', 'CH3CH2O', 'CH3CH2OCH3', 'CH3CH2OH', 'CH3CH2SH', 'CH3CHO', 'CH3CN', 'CH3CO', 'CH3COCH3', 'CH3COCl', 'CH3COF', 'CH3CONH2', 'CH3COOH', 'CH3NO2', 'CH3O', 'CH3OCH3', 'CH3ONO', 'CH3S', 'CH3SCH3', 'CH3SiH3', 'COF2', 'CS2', 'ClF3', 'ClNO', 'F2O', 'H2', 'H2CCHCN', 'H2CCHCl', 'H2CCHF', 'H2CCO', 'H2CCl2', 'H2CF2', 'H2COH', 'H3CNH2', 'HCCl3', 'HCF3', 'HCOOCH3', 'HCOOH', 'N2O', 'NCCN', 'NF3', 'NO2', 'O3', 'OCHCHO', 'OCS', 'PF3', 'SH', 'SiCl4', 'SiF4', 'bicyclobutane', 'butadiene', 'cyclobutane', 'cyclobutene', 'isobutane', 'isobutene', 'methylenecyclopropane', 'trans-butane'])\n"
     ]
    }
   ],
   "source": [
    "from ase.data import g2\n",
    "keys = g2.data.keys()\n",
    "# print in 3 columns\n",
    "for i in range(len(keys) // 3):\n",
    "    print(keys)\n",
    "#     print('{0:25s}{1:25s}{2:25s}'.format(tuple(keys[i * 3: i * 3 + 3])))"
   ]
  },
  {
   "cell_type": "code",
   "execution_count": 27,
   "id": "8e717e88",
   "metadata": {},
   "outputs": [
    {
     "name": "stdout",
     "output_type": "stream",
     "text": [
      "unit cell\n",
      "---------\n",
      "Cell([13.775328, 13.537479, 15.014576])\n"
     ]
    },
    {
     "name": "stderr",
     "output_type": "stream",
     "text": [
      "/home/reshad812/anaconda3/lib/python3.8/site-packages/ase/structure.py:5: UserWarning: Moved to ase.build\n",
      "  warnings.warn('Moved to ase.build')\n"
     ]
    }
   ],
   "source": [
    "from ase.structure import molecule\n",
    "from ase.io import write\n",
    "\n",
    "atoms = molecule('CH3CN')\n",
    "\n",
    "atoms.center(vacuum=6)\n",
    "print('unit cell')\n",
    "print('---------')\n",
    "print(atoms.get_cell())\n",
    "\n",
    "write('images/ch3cn.png', atoms, show_unit_cell=2)"
   ]
  },
  {
   "cell_type": "code",
   "execution_count": 31,
   "id": "483b3e39",
   "metadata": {},
   "outputs": [
    {
     "name": "stdout",
     "output_type": "stream",
     "text": [
      "unit cell\n",
      "---------\n",
      "Cell([13.775328, 13.537479, 15.014576])\n"
     ]
    }
   ],
   "source": [
    "from ase.structure import molecule\n",
    "from ase.io import write\n",
    "\n",
    "atoms = molecule('CH3CN')\n",
    "\n",
    "atoms.center(vacuum=6)\n",
    "print('unit cell')\n",
    "print('---------')\n",
    "print(atoms.get_cell())\n",
    "\n",
    "write('images/ch3cn-rotated.png', atoms,\n",
    "      show_unit_cell=2, rotation='45x,45y,0z')"
   ]
  },
  {
   "cell_type": "code",
   "execution_count": 32,
   "id": "4cabbdbb",
   "metadata": {},
   "outputs": [
    {
     "name": "stdout",
     "output_type": "stream",
     "text": [
      "difference in positions after rotating\n",
      "atom    difference vector\n",
      "--------------------------------------\n",
      "0 [-0.01782051  0.01782219  0.0002443 ]\n",
      "1 [ 2.20136479e-03 -2.20157163e-03 -3.01777230e-05]\n",
      "2 [ 0.01835166 -0.01835339 -0.00025158]\n",
      "3 [-0.02277373  0.02287218  0.01436336]\n",
      "4 [-0.02314601  0.02301662 -0.01887695]\n",
      "5 [-0.02297922  0.02301662  0.0054581 ]\n"
     ]
    }
   ],
   "source": [
    "from ase.structure import molecule\n",
    "from ase.io import write\n",
    "from numpy import pi\n",
    "\n",
    "atoms = molecule('CH3CN')\n",
    "atoms.center(vacuum=6)\n",
    "p1 = atoms.get_positions()\n",
    "\n",
    "atoms.rotate('x', pi/4, center='COM', rotate_cell=False)\n",
    "atoms.rotate('y', pi/4, center='COM', rotate_cell=False)\n",
    "\n",
    "write('images/ch3cn-rotated-2.png', atoms, show_unit_cell=2)\n",
    "print('difference in positions after rotating')\n",
    "print('atom    difference vector')\n",
    "print('--------------------------------------')\n",
    "p2 = atoms.get_positions()\n",
    "\n",
    "diff = p2 - p1\n",
    "for i, d in enumerate(diff):\n",
    "    print('{0} {1}'.format(i, d))"
   ]
  },
  {
   "cell_type": "code",
   "execution_count": 33,
   "id": "be07072c",
   "metadata": {},
   "outputs": [],
   "source": [
    "from ase.structure import molecule\n",
    "from ase.io import write\n",
    "\n",
    "atoms1 = molecule('NH3')\n",
    "\n",
    "atoms2 = molecule('O2')\n",
    "atoms2.translate([3, 0, 0])\n",
    "\n",
    "bothatoms = atoms1 + atoms2\n",
    "bothatoms.center(5)\n",
    "\n",
    "write('images/bothatoms.png', bothatoms, show_unit_cell=2, rotation='90x')"
   ]
  },
  {
   "cell_type": "code",
   "execution_count": 34,
   "id": "2b24b9c5",
   "metadata": {},
   "outputs": [
    {
     "name": "stdout",
     "output_type": "stream",
     "text": [
      " #  sym   p_x     p_y     p_z\n",
      "------------------------------\n",
      "  0 C      0.00    1.40    0.00\n",
      "  1 C      1.21    0.70    0.00\n",
      "  2 C      1.21   -0.70    0.00\n",
      "  3 C      0.00   -1.40    0.00\n",
      "  4 C     -1.21   -0.70    0.00\n",
      "  5 C     -1.21    0.70    0.00\n",
      "  6 H      0.00    2.48    0.00\n",
      "  7 H      2.15    1.24    0.00\n",
      "  8 H      2.15   -1.24    0.00\n",
      "  9 H      0.00   -2.48    0.00\n",
      " 10 H     -2.15   -1.24    0.00\n",
      " 11 H     -2.15    1.24    0.00\n",
      "\n",
      "  # sym    at#    p_x     p_y     p_z\n",
      "-------------------------------------\n",
      "  0  C       6    0.00    1.40    0.00\n",
      "  1  C       6    1.21    0.70    0.00\n",
      "  2  C       6    1.21   -0.70    0.00\n",
      "  3  C       6    0.00   -1.40    0.00\n",
      "  4  C       6   -1.21   -0.70    0.00\n",
      "  5  C       6   -1.21    0.70    0.00\n",
      "  6  H       1    0.00    2.48    0.00\n",
      "  7  H       1    2.15    1.24    0.00\n",
      "  8  H       1    2.15   -1.24    0.00\n",
      "  9  H       1    0.00   -2.48    0.00\n",
      " 10  H       1   -2.15   -1.24    0.00\n",
      " 11  H       1   -2.15    1.24    0.00\n"
     ]
    }
   ],
   "source": [
    "from ase.structure import molecule\n",
    "\n",
    "atoms = molecule('C6H6')  # benzene\n",
    "\n",
    "# access properties on each atom\n",
    "print(' #  sym   p_x     p_y     p_z')\n",
    "print('------------------------------')\n",
    "for i, atom in enumerate(atoms):\n",
    "   print('{0:3d}{1:^4s}{2:-8.2f}{3:-8.2f}{4:-8.2f}'.format(i,\n",
    "                                                           atom.symbol,\n",
    "                                                           atom.x,\n",
    "                                                           atom.y,\n",
    "                                                           atom.z))\n",
    "\n",
    "# get all properties in arrays\n",
    "sym = atoms.get_chemical_symbols()\n",
    "pos = atoms.get_positions()\n",
    "num = atoms.get_atomic_numbers()\n",
    "\n",
    "atom_indices = range(len(atoms))\n",
    "\n",
    "print()\n",
    "print('  # sym    at#    p_x     p_y     p_z')\n",
    "print('-------------------------------------')\n",
    "for i, s, n, p in zip(atom_indices, sym, num, pos):\n",
    "    px, py, pz = p\n",
    "    print('{0:3d}{1:>3s}{2:8d}{3:-8.2f}{4:-8.2f}{5:-8.2f}'.format(i, s, n,\n",
    "                                                                  px, py, pz))"
   ]
  },
  {
   "cell_type": "code",
   "execution_count": 35,
   "id": "30e3bb23",
   "metadata": {},
   "outputs": [
    {
     "name": "stdout",
     "output_type": "stream",
     "text": [
      "The molecular weight of C6H6 is 78.11 gm/mol\n"
     ]
    }
   ],
   "source": [
    "from ase.structure import molecule\n",
    "\n",
    "atoms = molecule('C6H6')\n",
    "masses = atoms.get_masses()\n",
    "\n",
    "molecular_weight = masses.sum()\n",
    "molecular_formula = atoms.get_chemical_formula(mode='reduce')\n",
    "\n",
    "# note use of two lines to keep length of line reasonable\n",
    "s = 'The molecular weight of {0} is {1:1.2f} gm/mol'\n",
    "print(s.format(molecular_formula, molecular_weight))"
   ]
  },
  {
   "cell_type": "code",
   "execution_count": 36,
   "id": "dd4073e9",
   "metadata": {},
   "outputs": [
    {
     "name": "stdout",
     "output_type": "stream",
     "text": [
      "COM1 = [-1.29821427e-19  5.91861899e-08  4.75435401e-02]\n",
      "COM2 = [0.00000000e+00 5.91861899e-08 4.75435401e-02]\n",
      "COM3 = [-1.29821427e-19  5.91861899e-08  4.75435401e-02]\n"
     ]
    }
   ],
   "source": [
    "from ase.structure import molecule\n",
    "import numpy as np\n",
    "\n",
    "# ammonia\n",
    "atoms = molecule('NH3')\n",
    "\n",
    "  # cartesian coordinates\n",
    "print('COM1 = {0}'.format(atoms.get_center_of_mass()))\n",
    "\n",
    "# compute the center of mass by hand\n",
    "pos = atoms.positions\n",
    "masses = atoms.get_masses()\n",
    "\n",
    "COM = np.array([0., 0., 0.])\n",
    "for m, p in zip(masses, pos):\n",
    "    COM += m*p\n",
    "COM /= masses.sum()\n",
    "\n",
    "print('COM2 = {0}'.format(COM))\n",
    "\n",
    "# one-line linear algebra definition of COM\n",
    "print('COM3 = {0}'.format(np.dot(masses, pos) / np.sum(masses)))"
   ]
  },
  {
   "cell_type": "code",
   "execution_count": 37,
   "id": "78fbcf69",
   "metadata": {},
   "outputs": [
    {
     "name": "stdout",
     "output_type": "stream",
     "text": [
      "linear rotors: I = [0 Ia Ia]\n",
      "  CO2 moments of inertia: [ 0.         44.45273132 44.45273132]\n",
      "\n",
      "symmetric rotors (Ia = Ib) < Ic\n",
      "  NH3 moments of inertia: [1.71022353 1.71022474 2.67047664]\n",
      "  C6H6 moments of inertia: [ 88.78025559  88.78027717 177.56053276]\n",
      "\n",
      "symmetric rotors Ia < (Ib = Ic)\n",
      "CH3Cl moments of inertia: [ 3.2039126  37.969823   37.96982492]\n",
      "\n",
      "spherical rotors Ia = Ib = Ic\n",
      "  CH4 moments of inertia: [3.19164619 3.19164619 3.19164619]\n",
      "\n",
      "unsymmetric rotors Ia != Ib != Ic\n",
      "  C3H7Cl moments of inertia: [ 19.41420447 213.18480664 223.1578698 ]\n"
     ]
    }
   ],
   "source": [
    "from ase.structure import molecule\n",
    "\n",
    "print('linear rotors: I = [0 Ia Ia]')\n",
    "atoms = molecule('CO2')\n",
    "print('  CO2 moments of inertia: {}'.format(atoms.get_moments_of_inertia()))\n",
    "print('')\n",
    "\n",
    "print('symmetric rotors (Ia = Ib) < Ic')\n",
    "atoms = molecule('NH3')\n",
    "print('  NH3 moments of inertia: {}'.format(atoms.get_moments_of_inertia()))\n",
    "\n",
    "atoms = molecule('C6H6')\n",
    "print('  C6H6 moments of inertia: {}'.format(atoms.get_moments_of_inertia()))\n",
    "print('')\n",
    "\n",
    "print('symmetric rotors Ia < (Ib = Ic)')\n",
    "atoms = molecule('CH3Cl')\n",
    "print('CH3Cl moments of inertia: {}'.format(atoms.get_moments_of_inertia()))\n",
    "print('')\n",
    "\n",
    "print('spherical rotors Ia = Ib = Ic')\n",
    "atoms = molecule('CH4')\n",
    "print('  CH4 moments of inertia: {}'.format(atoms.get_moments_of_inertia()))\n",
    "print('')\n",
    "\n",
    "print('unsymmetric rotors Ia != Ib != Ic')\n",
    "atoms = molecule('C3H7Cl')\n",
    "print('  C3H7Cl moments of inertia: {}'.format(atoms.get_moments_of_inertia()))"
   ]
  },
  {
   "cell_type": "code",
   "execution_count": 38,
   "id": "9156927c",
   "metadata": {},
   "outputs": [
    {
     "name": "stdout",
     "output_type": "stream",
     "text": [
      "Moments = [ 3.2039126  37.969823   37.96982492]\n",
      "axes = [[0. 0. 1.]\n",
      " [0. 1. 0.]\n",
      " [1. 0. 0.]]\n"
     ]
    }
   ],
   "source": [
    "from ase.structure import molecule\n",
    "\n",
    "atoms = molecule('CH3Cl')\n",
    "moments, axes = atoms.get_moments_of_inertia(vectors=True)\n",
    "print('Moments = {0}'.format(moments))\n",
    "print('axes = {0}'.format(axes))"
   ]
  },
  {
   "cell_type": "code",
   "execution_count": 39,
   "id": "6b016ffe",
   "metadata": {},
   "outputs": [
    {
     "name": "stdout",
     "output_type": "stream",
     "text": [
      "atom symbol\n",
      "===========\n",
      " 0 N  \n",
      " 1 H  \n",
      " 2 H  \n",
      " 3 H  \n",
      "The N-H distance is 1.017 angstroms\n"
     ]
    }
   ],
   "source": [
    "from ase.structure import molecule\n",
    "\n",
    "# ammonia\n",
    "atoms = molecule('NH3')\n",
    "\n",
    "print('atom symbol')\n",
    "print('===========')\n",
    "for i, atom in enumerate(atoms):\n",
    "    print('{0:2d} {1:3s}' .format(i, atom.symbol))\n",
    "\n",
    "# N-H bond length\n",
    "s = 'The N-H distance is {0:1.3f} angstroms'\n",
    "print(s.format(atoms.get_distance(0, 1)))"
   ]
  },
  {
   "cell_type": "code",
   "execution_count": 40,
   "id": "d13ba93d",
   "metadata": {},
   "outputs": [
    {
     "name": "stdout",
     "output_type": "stream",
     "text": [
      "atom symbol\n",
      "===========\n",
      " 0 N  \n",
      " 1 H  \n",
      " 2 H  \n",
      " 3 H  \n",
      "theta = 106.3 degrees\n"
     ]
    }
   ],
   "source": [
    "from ase.structure import molecule\n",
    "\n",
    "# ammonia\n",
    "atoms = molecule('NH3')\n",
    "\n",
    "print('atom symbol')\n",
    "print('===========')\n",
    "for i, atom in enumerate(atoms):\n",
    "    print('{0:2d} {1:3s}'.format(i, atom.symbol))\n",
    "\n",
    "a = atoms.positions[0] - atoms.positions[1]\n",
    "b = atoms.positions[0] - atoms.positions[2]\n",
    "\n",
    "from numpy import arccos, dot, pi\n",
    "from numpy.linalg import norm\n",
    "\n",
    "theta_rad = arccos(dot(a, b) / (norm(a) * norm(b)))  # in radians\n",
    "\n",
    "print('theta = {0:1.1f} degrees'.format(theta_rad * 180./pi))"
   ]
  },
  {
   "cell_type": "code",
   "execution_count": 47,
   "id": "5f5307ba",
   "metadata": {},
   "outputs": [
    {
     "name": "stdout",
     "output_type": "stream",
     "text": [
      "theta = 6092.5251845912 degrees\n"
     ]
    }
   ],
   "source": [
    "from ase.structure import molecule\n",
    "from numpy import pi\n",
    "# ammonia\n",
    "atoms = molecule('NH3')\n",
    "\n",
    "print('theta = {0} degrees'.format(atoms.get_angle(1, 0, 2) * 180. / pi))"
   ]
  },
  {
   "cell_type": "code",
   "execution_count": 48,
   "id": "513f4e32",
   "metadata": {},
   "outputs": [
    {
     "name": "stdout",
     "output_type": "stream",
     "text": [
      "atom symbol\n",
      "===========\n",
      " 0 C  \n",
      " 1 C  \n",
      " 2 H  \n",
      " 3 H  \n",
      " 4 H  \n",
      " 5 H  \n",
      " 6 H  \n",
      " 7 H  \n"
     ]
    },
    {
     "ename": "TypeError",
     "evalue": "get_dihedral() missing 3 required positional arguments: 'a1', 'a2', and 'a3'",
     "output_type": "error",
     "traceback": [
      "\u001b[0;31m---------------------------------------------------------------------------\u001b[0m",
      "\u001b[0;31mTypeError\u001b[0m                                 Traceback (most recent call last)",
      "Input \u001b[0;32mIn [48]\u001b[0m, in \u001b[0;36m<cell line: 12>\u001b[0;34m()\u001b[0m\n\u001b[1;32m      9\u001b[0m \u001b[38;5;28;01mfor\u001b[39;00m i, atom \u001b[38;5;129;01min\u001b[39;00m \u001b[38;5;28menumerate\u001b[39m(atoms):\n\u001b[1;32m     10\u001b[0m   \u001b[38;5;28mprint\u001b[39m(\u001b[38;5;124m'\u001b[39m\u001b[38;5;132;01m{0:2d}\u001b[39;00m\u001b[38;5;124m \u001b[39m\u001b[38;5;132;01m{1:3s}\u001b[39;00m\u001b[38;5;124m'\u001b[39m\u001b[38;5;241m.\u001b[39mformat(i, atom\u001b[38;5;241m.\u001b[39msymbol))\n\u001b[0;32m---> 12\u001b[0m da \u001b[38;5;241m=\u001b[39m \u001b[43matoms\u001b[49m\u001b[38;5;241;43m.\u001b[39;49m\u001b[43mget_dihedral\u001b[49m\u001b[43m(\u001b[49m\u001b[43m[\u001b[49m\u001b[38;5;241;43m5\u001b[39;49m\u001b[43m,\u001b[49m\u001b[43m \u001b[49m\u001b[38;5;241;43m1\u001b[39;49m\u001b[43m,\u001b[49m\u001b[43m \u001b[49m\u001b[38;5;241;43m0\u001b[39;49m\u001b[43m,\u001b[49m\u001b[43m \u001b[49m\u001b[38;5;241;43m4\u001b[39;49m\u001b[43m]\u001b[49m\u001b[43m)\u001b[49m \u001b[38;5;241m*\u001b[39m \u001b[38;5;241m180.\u001b[39m \u001b[38;5;241m/\u001b[39m np\u001b[38;5;241m.\u001b[39mpi\n\u001b[1;32m     13\u001b[0m \u001b[38;5;28mprint\u001b[39m(\u001b[38;5;124m'\u001b[39m\u001b[38;5;124mdihedral angle = \u001b[39m\u001b[38;5;132;01m{0:1.2f}\u001b[39;00m\u001b[38;5;124m degrees\u001b[39m\u001b[38;5;124m'\u001b[39m\u001b[38;5;241m.\u001b[39mformat(da))\n",
      "\u001b[0;31mTypeError\u001b[0m: get_dihedral() missing 3 required positional arguments: 'a1', 'a2', and 'a3'"
     ]
    }
   ],
   "source": [
    "# calculate an ethane dihedral angle\n",
    "from ase.structure import molecule\n",
    "import numpy as np\n",
    "\n",
    "atoms = molecule('C2H6')\n",
    "\n",
    "print('atom symbol')\n",
    "print('===========')\n",
    "for i, atom in enumerate(atoms):\n",
    "  print('{0:2d} {1:3s}'.format(i, atom.symbol))\n",
    "\n",
    "da = atoms.get_dihedral([5, 1, 0, 4]) * 180. / np.pi\n",
    "print('dihedral angle = {0:1.2f} degrees'.format(da))\n"
   ]
  },
  {
   "cell_type": "code",
   "execution_count": 3,
   "id": "829e21d2",
   "metadata": {},
   "outputs": [
    {
     "ename": "ImportError",
     "evalue": "cannot import name 'Vasp' from 'vasp' (/home/reshad812/anaconda3/lib/python3.8/site-packages/vasp/__init__.py)",
     "output_type": "error",
     "traceback": [
      "\u001b[0;31m---------------------------------------------------------------------------\u001b[0m",
      "\u001b[0;31mImportError\u001b[0m                               Traceback (most recent call last)",
      "Input \u001b[0;32mIn [3]\u001b[0m, in \u001b[0;36m<cell line: 2>\u001b[0;34m()\u001b[0m\n\u001b[1;32m      1\u001b[0m \u001b[38;5;28;01mfrom\u001b[39;00m \u001b[38;5;21;01mase\u001b[39;00m \u001b[38;5;28;01mimport\u001b[39;00m Atoms, Atom\n\u001b[0;32m----> 2\u001b[0m \u001b[38;5;28;01mfrom\u001b[39;00m \u001b[38;5;21;01mvasp\u001b[39;00m \u001b[38;5;28;01mimport\u001b[39;00m Vasp\n\u001b[1;32m      4\u001b[0m co \u001b[38;5;241m=\u001b[39m Atoms([Atom(\u001b[38;5;124m'\u001b[39m\u001b[38;5;124mC\u001b[39m\u001b[38;5;124m'\u001b[39m, [\u001b[38;5;241m0\u001b[39m, \u001b[38;5;241m0\u001b[39m, \u001b[38;5;241m0\u001b[39m]),\n\u001b[1;32m      5\u001b[0m             Atom(\u001b[38;5;124m'\u001b[39m\u001b[38;5;124mO\u001b[39m\u001b[38;5;124m'\u001b[39m, [\u001b[38;5;241m1.2\u001b[39m, \u001b[38;5;241m0\u001b[39m, \u001b[38;5;241m0\u001b[39m])],\n\u001b[1;32m      6\u001b[0m            cell\u001b[38;5;241m=\u001b[39m(\u001b[38;5;241m6.\u001b[39m, \u001b[38;5;241m6.\u001b[39m, \u001b[38;5;241m6.\u001b[39m))\n\u001b[1;32m      8\u001b[0m calc \u001b[38;5;241m=\u001b[39m Vasp(\u001b[38;5;124m'\u001b[39m\u001b[38;5;124mmolecules/simple-co\u001b[39m\u001b[38;5;124m'\u001b[39m,  \u001b[38;5;66;03m# output dir\u001b[39;00m\n\u001b[1;32m      9\u001b[0m             xc\u001b[38;5;241m=\u001b[39m\u001b[38;5;124m'\u001b[39m\u001b[38;5;124mpbe\u001b[39m\u001b[38;5;124m'\u001b[39m,  \u001b[38;5;66;03m# the exchange-correlation functional\u001b[39;00m\n\u001b[1;32m     10\u001b[0m             nbands\u001b[38;5;241m=\u001b[39m\u001b[38;5;241m6\u001b[39m,    \u001b[38;5;66;03m# number of bands\u001b[39;00m\n\u001b[0;32m   (...)\u001b[0m\n\u001b[1;32m     13\u001b[0m             sigma\u001b[38;5;241m=\u001b[39m\u001b[38;5;241m0.01\u001b[39m,  \u001b[38;5;66;03m# very small smearing factor for a molecule\u001b[39;00m\n\u001b[1;32m     14\u001b[0m             atoms\u001b[38;5;241m=\u001b[39mco)\n",
      "\u001b[0;31mImportError\u001b[0m: cannot import name 'Vasp' from 'vasp' (/home/reshad812/anaconda3/lib/python3.8/site-packages/vasp/__init__.py)"
     ]
    }
   ],
   "source": [
    "from ase import Atoms, Atom\n",
    "from vasp import Vasp\n",
    "\n",
    "co = Atoms([Atom('C', [0, 0, 0]),\n",
    "            Atom('O', [1.2, 0, 0])],\n",
    "           cell=(6., 6., 6.))\n",
    "\n",
    "calc = Vasp('molecules/simple-co',  # output dir\n",
    "            xc='pbe',  # the exchange-correlation functional\n",
    "            nbands=6,    # number of bands\n",
    "            encut=350,    # planewave cutoff\n",
    "            ismear=1,    # Methfessel-Paxton smearing\n",
    "            sigma=0.01,  # very small smearing factor for a molecule\n",
    "            atoms=co)\n",
    "\n",
    "print('energy = {0} eV'.format(co.get_potential_energy()))\n",
    "print(co.get_forces())"
   ]
  },
  {
   "cell_type": "code",
   "execution_count": null,
   "id": "8db86927",
   "metadata": {},
   "outputs": [],
   "source": [
    "pip install \n"
   ]
  }
 ],
 "metadata": {
  "kernelspec": {
   "display_name": "Python 3 (ipykernel)",
   "language": "python",
   "name": "python3"
  },
  "language_info": {
   "codemirror_mode": {
    "name": "ipython",
    "version": 3
   },
   "file_extension": ".py",
   "mimetype": "text/x-python",
   "name": "python",
   "nbconvert_exporter": "python",
   "pygments_lexer": "ipython3",
   "version": "3.8.8"
  }
 },
 "nbformat": 4,
 "nbformat_minor": 5
}
